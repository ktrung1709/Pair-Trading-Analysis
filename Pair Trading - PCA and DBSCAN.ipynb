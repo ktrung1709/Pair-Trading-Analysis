{
 "cells": [
  {
   "cell_type": "code",
   "execution_count": 1,
   "id": "aeca2063",
   "metadata": {
    "scrolled": true
   },
   "outputs": [
    {
     "data": {
      "text/html": [
       "<h1>Import Data</h1>\n"
      ],
      "text/plain": [
       "<IPython.core.display.HTML object>"
      ]
     },
     "metadata": {},
     "output_type": "display_data"
    }
   ],
   "source": [
    "%%HTML\n",
    "<h1>Import Data</h1>"
   ]
  },
  {
   "cell_type": "code",
   "execution_count": 2,
   "id": "af7ed849",
   "metadata": {
    "scrolled": true
   },
   "outputs": [
    {
     "data": {
      "text/html": [
       "<div>\n",
       "<style scoped>\n",
       "    .dataframe tbody tr th:only-of-type {\n",
       "        vertical-align: middle;\n",
       "    }\n",
       "\n",
       "    .dataframe tbody tr th {\n",
       "        vertical-align: top;\n",
       "    }\n",
       "\n",
       "    .dataframe thead th {\n",
       "        text-align: right;\n",
       "    }\n",
       "</style>\n",
       "<table border=\"1\" class=\"dataframe\">\n",
       "  <thead>\n",
       "    <tr style=\"text-align: right;\">\n",
       "      <th></th>\n",
       "      <th>&lt;Ticker&gt;</th>\n",
       "      <th>&lt;DTYYYYMMDD&gt;</th>\n",
       "      <th>&lt;Open&gt;</th>\n",
       "      <th>&lt;High&gt;</th>\n",
       "      <th>&lt;Low&gt;</th>\n",
       "      <th>&lt;Close&gt;</th>\n",
       "      <th>&lt;Volume&gt;</th>\n",
       "    </tr>\n",
       "  </thead>\n",
       "  <tbody>\n",
       "    <tr>\n",
       "      <th>0</th>\n",
       "      <td>AAV</td>\n",
       "      <td>20210730</td>\n",
       "      <td>12.4</td>\n",
       "      <td>12.4</td>\n",
       "      <td>12.1</td>\n",
       "      <td>12.4</td>\n",
       "      <td>166400</td>\n",
       "    </tr>\n",
       "    <tr>\n",
       "      <th>1</th>\n",
       "      <td>ABT</td>\n",
       "      <td>20210730</td>\n",
       "      <td>26.0</td>\n",
       "      <td>27.2</td>\n",
       "      <td>26.0</td>\n",
       "      <td>27.1</td>\n",
       "      <td>1207</td>\n",
       "    </tr>\n",
       "    <tr>\n",
       "      <th>2</th>\n",
       "      <td>ACM</td>\n",
       "      <td>20210730</td>\n",
       "      <td>2.3</td>\n",
       "      <td>2.4</td>\n",
       "      <td>2.3</td>\n",
       "      <td>2.4</td>\n",
       "      <td>592463</td>\n",
       "    </tr>\n",
       "    <tr>\n",
       "      <th>3</th>\n",
       "      <td>ADC</td>\n",
       "      <td>20210730</td>\n",
       "      <td>21.5</td>\n",
       "      <td>21.5</td>\n",
       "      <td>21.5</td>\n",
       "      <td>21.5</td>\n",
       "      <td>0</td>\n",
       "    </tr>\n",
       "    <tr>\n",
       "      <th>4</th>\n",
       "      <td>ALT</td>\n",
       "      <td>20210730</td>\n",
       "      <td>12.7</td>\n",
       "      <td>12.7</td>\n",
       "      <td>12.7</td>\n",
       "      <td>12.7</td>\n",
       "      <td>0</td>\n",
       "    </tr>\n",
       "  </tbody>\n",
       "</table>\n",
       "</div>"
      ],
      "text/plain": [
       "  <Ticker>  <DTYYYYMMDD>  <Open>  <High>  <Low>  <Close>  <Volume>\n",
       "0      AAV      20210730    12.4    12.4   12.1     12.4    166400\n",
       "1      ABT      20210730    26.0    27.2   26.0     27.1      1207\n",
       "2      ACM      20210730     2.3     2.4    2.3      2.4    592463\n",
       "3      ADC      20210730    21.5    21.5   21.5     21.5         0\n",
       "4      ALT      20210730    12.7    12.7   12.7     12.7         0"
      ]
     },
     "execution_count": 2,
     "metadata": {},
     "output_type": "execute_result"
    }
   ],
   "source": [
    "import pandas as pd\n",
    "df1 = pd.read_csv('./data/210730_HNX_ALL.txt', sep = ',')\n",
    "df2 = pd.read_csv('./data/210730_HOSE_ALL.txt', sep = ',')\n",
    "\n",
    "frames = [df1, df2]\n",
    "df = pd.concat(frames, ignore_index = True)\n",
    "df.head()"
   ]
  },
  {
   "cell_type": "code",
   "execution_count": 3,
   "id": "f2d58dce",
   "metadata": {
    "scrolled": true
   },
   "outputs": [
    {
     "data": {
      "text/html": [
       "<h1>Extract Data</h1>\n"
      ],
      "text/plain": [
       "<IPython.core.display.HTML object>"
      ]
     },
     "metadata": {},
     "output_type": "display_data"
    }
   ],
   "source": [
    "%%HTML\n",
    "<h1>Extract Data</h1>"
   ]
  },
  {
   "cell_type": "code",
   "execution_count": 4,
   "id": "ea81223b",
   "metadata": {
    "scrolled": true
   },
   "outputs": [
    {
     "name": "stdout",
     "output_type": "stream",
     "text": [
      "        Ticker  DTYYYYMMDD    Open    High     Low   Close  Volume\n",
      "0          AAV    20210730  12.400  12.400  12.100  12.400  166400\n",
      "1          ABT    20210730  26.000  27.200  26.000  27.100    1207\n",
      "2          ACM    20210730   2.300   2.400   2.300   2.400  592463\n",
      "3          ADC    20210730  21.500  21.500  21.500  21.500       0\n",
      "4          ALT    20210730  12.700  12.700  12.700  12.700       0\n",
      "...        ...         ...     ...     ...     ...     ...     ...\n",
      "1436015    VSC    20120103   6.807   6.807   6.572   6.572   15658\n",
      "1436016    VSH    20120103   5.052   5.113   5.052   5.052  211961\n",
      "1436017    VSI    20120103   1.844   1.844   1.684   1.684    6258\n",
      "1436018    VTB    20120103   2.538   2.538   2.538   2.538      26\n",
      "1436019    VTO    20120103   1.747   1.747   1.707   1.707   36310\n",
      "\n",
      "[1436020 rows x 7 columns]\n"
     ]
    }
   ],
   "source": [
    "#Remove redundant characters\n",
    "df.columns=df.columns.str.replace('[<,>]','', regex=True)\n",
    "print(df)"
   ]
  },
  {
   "cell_type": "code",
   "execution_count": 5,
   "id": "3248d7a8",
   "metadata": {
    "scrolled": true
   },
   "outputs": [
    {
     "name": "stdout",
     "output_type": "stream",
     "text": [
      "        Ticker  DTYYYYMMDD    Open    High     Low   Close  Volume\n",
      "0          AAV    20210730  12.400  12.400  12.100  12.400  166400\n",
      "1          ABT    20210730  26.000  27.200  26.000  27.100    1207\n",
      "2          ACM    20210730   2.300   2.400   2.300   2.400  592463\n",
      "3          ADC    20210730  21.500  21.500  21.500  21.500       0\n",
      "4          ALT    20210730  12.700  12.700  12.700  12.700       0\n",
      "...        ...         ...     ...     ...     ...     ...     ...\n",
      "1436015    VSC    20120103   6.807   6.807   6.572   6.572   15658\n",
      "1436016    VSH    20120103   5.052   5.113   5.052   5.052  211961\n",
      "1436017    VSI    20120103   1.844   1.844   1.684   1.684    6258\n",
      "1436018    VTB    20120103   2.538   2.538   2.538   2.538      26\n",
      "1436019    VTO    20120103   1.747   1.747   1.707   1.707   36310\n",
      "\n",
      "[1436020 rows x 7 columns]\n"
     ]
    }
   ],
   "source": [
    "#Drop duplicate records\n",
    "df_modified = df.drop_duplicates(subset = ['Ticker', 'DTYYYYMMDD'], keep = 'first')\n",
    "print(df_modified)"
   ]
  },
  {
   "cell_type": "code",
   "execution_count": 6,
   "id": "7207c034",
   "metadata": {
    "scrolled": false
   },
   "outputs": [
    {
     "name": "stdout",
     "output_type": "stream",
     "text": [
      "Ticker         AAA     AAM   AAT   AAV    ABS     ABT     ACB     ACC     ACL  \\\n",
      "DTYYYYMMDD                                                                      \n",
      "20120103     2.950   8.336   NaN   NaN    NaN  13.371   5.760   5.259   5.411   \n",
      "20120104     2.976   8.487   NaN   NaN    NaN  13.409   5.760   5.289   5.349   \n",
      "20120105     2.950   8.374   NaN   NaN    NaN  13.669   5.939   5.053   5.349   \n",
      "20120106     2.925   8.374   NaN   NaN    NaN  13.036   5.819   5.289   5.349   \n",
      "20120109     2.950   8.374   NaN   NaN    NaN  13.036   5.790   5.289   5.349   \n",
      "...            ...     ...   ...   ...    ...     ...     ...     ...     ...   \n",
      "20210726    15.450  10.800  17.5  12.4  18.55  27.600  32.700  14.000  11.400   \n",
      "20210727    16.000  10.500  17.7  12.4  18.90  27.600  33.150  13.700  11.600   \n",
      "20210728    16.300  10.100  17.6  12.4  19.35  27.000  33.150  13.700  11.600   \n",
      "20210729    16.150  10.800  17.6  12.4  19.95  27.000  34.150  13.700  11.500   \n",
      "20210730    16.150  10.900  17.6  12.4  20.40  27.100  36.150  13.750  11.550   \n",
      "\n",
      "Ticker      ACM  ...  VTJ     VTL    VTO    VTV    VXB     WCS  WSS   X20  \\\n",
      "DTYYYYMMDD       ...                                                        \n",
      "20120103    NaN  ...  NaN  15.657  1.707  1.224  3.521   14.96  3.1   NaN   \n",
      "20120104    NaN  ...  NaN  15.657  1.707  1.269  3.521   14.96  2.9   NaN   \n",
      "20120105    NaN  ...  NaN  15.657  1.666  1.269  3.298   14.96  2.9   NaN   \n",
      "20120106    NaN  ...  NaN  15.657  1.626  1.269  3.164   14.96  2.8   NaN   \n",
      "20120109    NaN  ...  NaN  15.657  1.666  1.291  3.030   14.96  2.8   NaN   \n",
      "...         ...  ...  ...     ...    ...    ...    ...     ...  ...   ...   \n",
      "20210726    2.3  ...  4.3  12.100  8.610  6.100  9.700  177.00  7.0  10.7   \n",
      "20210727    2.3  ...  4.4  12.100  8.680  6.100  9.700  177.00  7.2  10.7   \n",
      "20210728    2.3  ...  4.3  12.100  8.750  6.100  9.700  178.00  7.1  10.7   \n",
      "20210729    2.3  ...  4.3  12.100  8.940  6.100  9.700  178.00  7.3  10.5   \n",
      "20210730    2.4  ...  4.2  12.100  9.240  6.100  9.700  178.00  7.2  10.5   \n",
      "\n",
      "Ticker       YBM    YEG  \n",
      "DTYYYYMMDD               \n",
      "20120103     NaN    NaN  \n",
      "20120104     NaN    NaN  \n",
      "20120105     NaN    NaN  \n",
      "20120106     NaN    NaN  \n",
      "20120109     NaN    NaN  \n",
      "...          ...    ...  \n",
      "20210726    6.75  16.20  \n",
      "20210727    6.81  15.80  \n",
      "20210728    6.84  15.05  \n",
      "20210729    6.84  15.40  \n",
      "20210730    6.60  15.40  \n",
      "\n",
      "[2390 rows x 750 columns]\n"
     ]
    }
   ],
   "source": [
    "#Pivot the table\n",
    "data = df_modified.pivot(index='DTYYYYMMDD', columns='Ticker', values = 'Close')\n",
    "print(data)"
   ]
  },
  {
   "cell_type": "code",
   "execution_count": 7,
   "id": "e6f59869",
   "metadata": {
    "scrolled": true
   },
   "outputs": [
    {
     "data": {
      "text/html": [
       "<h1>Filter Data</h1>\n"
      ],
      "text/plain": [
       "<IPython.core.display.HTML object>"
      ]
     },
     "metadata": {},
     "output_type": "display_data"
    }
   ],
   "source": [
    "%%HTML\n",
    "<h1>Filter Data</h1>"
   ]
  },
  {
   "cell_type": "code",
   "execution_count": 8,
   "id": "82a8576b",
   "metadata": {
    "scrolled": true
   },
   "outputs": [
    {
     "data": {
      "text/html": [
       "<h3>Here we only consider data between 02/01/2018 and 28/12/2018 (a total of 250 days)</h3>\n"
      ],
      "text/plain": [
       "<IPython.core.display.HTML object>"
      ]
     },
     "metadata": {},
     "output_type": "display_data"
    }
   ],
   "source": [
    "%%HTML\n",
    "<h3>Here we only consider data between 02/01/2018 and 28/12/2018 (a total of 250 days)</h3>"
   ]
  },
  {
   "cell_type": "code",
   "execution_count": 9,
   "id": "129b8ba0",
   "metadata": {},
   "outputs": [
    {
     "name": "stdout",
     "output_type": "stream",
     "text": [
      "Ticker         AAA    AAM  AAT     AAV  ABS     ABT     ACB     ACC    ACL  \\\n",
      "DTYYYYMMDD                                                                   \n",
      "20180402    15.914  6.935  NaN     NaN  NaN  29.091  20.228  11.342  3.405   \n",
      "20180403    16.998  7.101  NaN     NaN  NaN  28.419  20.146  11.564  3.604   \n",
      "20180404    17.946  6.935  NaN     NaN  NaN  28.775  20.187  11.564  3.600   \n",
      "20180405    17.574  6.935  NaN     NaN  NaN  28.735  20.475  11.287  3.446   \n",
      "20180406    17.540  6.902  NaN     NaN  NaN  28.854  20.927  11.287  3.559   \n",
      "...            ...    ...  ...     ...  ...     ...     ...     ...    ...   \n",
      "20180625    17.138  6.935  NaN  10.758  NaN  30.040  16.158  10.916  4.054   \n",
      "20180626    17.005  7.134  NaN  11.779  NaN  30.395  15.911  10.916  4.054   \n",
      "20180627    16.609  7.035  NaN  11.235  NaN  30.395  15.418  10.916  4.054   \n",
      "20180628    16.653  7.101  NaN  11.303  NaN  30.040  14.842  10.795  4.054   \n",
      "20180629    16.653  7.134  NaN  11.371  NaN  30.040  14.637  10.855  4.054   \n",
      "\n",
      "Ticker      ACM  ...    VTJ     VTL    VTO     VTV     VXB     WCS  WSS  \\\n",
      "DTYYYYMMDD       ...                                                      \n",
      "20180402    1.1  ...  6.469  23.975  5.471  10.681  12.535  92.615  3.7   \n",
      "20180403    1.1  ...  6.746  23.975  5.478  11.326  12.535  92.615  3.6   \n",
      "20180404    1.0  ...  6.746  23.975  5.569  10.968  12.535  92.435  3.4   \n",
      "20180405    1.0  ...  6.746  23.975  5.504  11.183  12.535  92.435  3.6   \n",
      "20180406    1.1  ...  6.746  23.975  5.517  10.896  12.535  92.435  3.7   \n",
      "...         ...  ...    ...     ...    ...     ...     ...     ...  ...   \n",
      "20180625    0.9  ...  5.545  17.803  5.275  10.610  14.500  80.565  3.0   \n",
      "20180626    0.9  ...  5.545  17.803  5.217  10.394  14.500  74.949  3.0   \n",
      "20180627    0.9  ...  5.545  17.803  5.268  10.394  14.500  79.344  2.9   \n",
      "20180628    0.9  ...  5.545  17.803  5.319  10.323  14.500  79.344  2.8   \n",
      "20180629    0.9  ...  5.545  17.803  5.319   9.964  14.500  85.020  2.8   \n",
      "\n",
      "Ticker         X20  YBM    YEG  \n",
      "DTYYYYMMDD                      \n",
      "20180402    18.349  NaN    NaN  \n",
      "20180403    18.349  NaN    NaN  \n",
      "20180404    18.349  NaN    NaN  \n",
      "20180405    16.576  NaN    NaN  \n",
      "20180406    17.269  NaN    NaN  \n",
      "...            ...  ...    ...  \n",
      "20180625     9.945  NaN    NaN  \n",
      "20180626     9.945  NaN  300.0  \n",
      "20180627     9.945  NaN  321.0  \n",
      "20180628     9.945  NaN  343.0  \n",
      "20180629     9.945  NaN  319.0  \n",
      "\n",
      "[62 rows x 750 columns]\n"
     ]
    }
   ],
   "source": [
    "data = data.loc[20180401:20180630]\n",
    "print(data)"
   ]
  },
  {
   "cell_type": "code",
   "execution_count": 10,
   "id": "8b9ab288",
   "metadata": {
    "scrolled": true
   },
   "outputs": [
    {
     "data": {
      "text/html": [
       "<h1>Clean Data</h1>\n"
      ],
      "text/plain": [
       "<IPython.core.display.HTML object>"
      ]
     },
     "metadata": {},
     "output_type": "display_data"
    }
   ],
   "source": [
    "%%HTML\n",
    "<h1>Clean Data</h1>"
   ]
  },
  {
   "cell_type": "code",
   "execution_count": 11,
   "id": "cfce3d74",
   "metadata": {},
   "outputs": [],
   "source": [
    "pd.set_option('display.precision', 3)"
   ]
  },
  {
   "cell_type": "code",
   "execution_count": 12,
   "id": "940c7158",
   "metadata": {},
   "outputs": [
    {
     "data": {
      "text/plain": [
       "True"
      ]
     },
     "execution_count": 12,
     "metadata": {},
     "output_type": "execute_result"
    }
   ],
   "source": [
    "#Check for missing values\n",
    "data.isnull().values.any()"
   ]
  },
  {
   "cell_type": "code",
   "execution_count": 13,
   "id": "bb1baf7e",
   "metadata": {
    "scrolled": false
   },
   "outputs": [
    {
     "data": {
      "text/plain": [
       "<AxesSubplot:>"
      ]
     },
     "execution_count": 13,
     "metadata": {},
     "output_type": "execute_result"
    },
    {
     "data": {
      "image/png": "[encoded data removed]",
      "text/plain": [
       "<Figure size 2500x1000 with 2 Axes>"
      ]
     },
     "metadata": {},
     "output_type": "display_data"
    }
   ],
   "source": [
    "#Plot the missing value matrix\n",
    "import missingno\n",
    "missingno.matrix(data)"
   ]
  },
  {
   "cell_type": "code",
   "execution_count": 14,
   "id": "29a684e4",
   "metadata": {},
   "outputs": [
    {
     "data": {
      "text/html": [
       "<h3>We shall remove all the columns with more than 20% of missing data</h3>\n"
      ],
      "text/plain": [
       "<IPython.core.display.HTML object>"
      ]
     },
     "metadata": {},
     "output_type": "display_data"
    }
   ],
   "source": [
    "%%HTML\n",
    "<h3>We shall remove all the columns with more than 20% of missing data</h3>"
   ]
  },
  {
   "cell_type": "code",
   "execution_count": 15,
   "id": "0075413d",
   "metadata": {},
   "outputs": [
    {
     "name": "stdout",
     "output_type": "stream",
     "text": [
      "Data Shape before cleaning = (62, 750)\n",
      "Data Shape after cleaning = (62, 660)\n"
     ]
    }
   ],
   "source": [
    "print('Data Shape before cleaning =', data.shape)\n",
    "\n",
    "missing_percentage = data.isnull().mean().sort_values(ascending=False)\n",
    "dropped_list = sorted(list(missing_percentage[missing_percentage > 0.2].index))\n",
    "data.drop(labels=dropped_list, axis=1, inplace=True)\n",
    "\n",
    "print('Data Shape after cleaning =', data.shape)"
   ]
  },
  {
   "cell_type": "code",
   "execution_count": 16,
   "id": "ba2c37e6",
   "metadata": {
    "scrolled": false
   },
   "outputs": [
    {
     "name": "stdout",
     "output_type": "stream",
     "text": [
      "Ticker         AAA    AAM     ABT     ACB     ACC    ACL  ACM     ADC     ADS  \\\n",
      "DTYYYYMMDD                                                                      \n",
      "20180402    15.914  6.935  29.091  20.228  11.342  3.405  1.1  10.669  11.919   \n",
      "20180403    16.998  7.101  28.419  20.146  11.564  3.604  1.1  10.669  11.882   \n",
      "20180404    17.946  6.935  28.775  20.187  11.564  3.600  1.0  10.669  11.919   \n",
      "20180405    17.574  6.935  28.735  20.475  11.287  3.446  1.0  10.669  11.955   \n",
      "20180406    17.540  6.902  28.854  20.927  11.287  3.559  1.1  10.669  11.955   \n",
      "...            ...    ...     ...     ...     ...    ...  ...     ...     ...   \n",
      "20180625    17.138  6.935  30.040  16.158  10.916  4.054  0.9  11.156  12.075   \n",
      "20180626    17.005  7.134  30.395  15.911  10.916  4.054  0.9  11.156  12.037   \n",
      "20180627    16.609  7.035  30.395  15.418  10.916  4.054  0.9  11.156  12.000   \n",
      "20180628    16.653  7.101  30.040  14.842  10.795  4.054  0.9  11.156  11.962   \n",
      "20180629    16.653  7.134  30.040  14.637  10.855  4.054  0.9  11.156  11.962   \n",
      "\n",
      "Ticker        AGM  ...     VTB     VTH    VTJ     VTL    VTO     VTV     VXB  \\\n",
      "DTYYYYMMDD         ...                                                         \n",
      "20180402    7.593  ...  13.486  12.496  6.469  23.975  5.471  10.681  12.535   \n",
      "20180403    7.601  ...  13.447  12.496  6.746  23.975  5.478  11.326  12.535   \n",
      "20180404    7.625  ...  13.447  12.496  6.746  23.975  5.569  10.968  12.535   \n",
      "20180405    7.682  ...  13.642  12.496  6.746  23.975  5.504  11.183  12.535   \n",
      "20180406    7.642  ...  13.915  12.496  6.746  23.975  5.517  10.896  12.535   \n",
      "...           ...  ...     ...     ...    ...     ...    ...     ...     ...   \n",
      "20180625    7.174  ...  13.047  10.200  5.545  17.803  5.275  10.610  14.500   \n",
      "20180626    7.183  ...  13.047  10.200  5.545  17.803  5.217  10.394  14.500   \n",
      "20180627    7.602  ...  13.372  10.200  5.545  17.803  5.268  10.394  14.500   \n",
      "20180628    7.824  ...  14.267  10.200  5.545  17.803  5.319  10.323  14.500   \n",
      "20180629    7.354  ...  14.145  10.200  5.545  17.803  5.319   9.964  14.500   \n",
      "\n",
      "Ticker         WCS  WSS     X20  \n",
      "DTYYYYMMDD                       \n",
      "20180402    92.615  3.7  18.349  \n",
      "20180403    92.615  3.6  18.349  \n",
      "20180404    92.435  3.4  18.349  \n",
      "20180405    92.435  3.6  16.576  \n",
      "20180406    92.435  3.7  17.269  \n",
      "...            ...  ...     ...  \n",
      "20180625    80.565  3.0   9.945  \n",
      "20180626    74.949  3.0   9.945  \n",
      "20180627    79.344  2.9   9.945  \n",
      "20180628    79.344  2.8   9.945  \n",
      "20180629    85.020  2.8   9.945  \n",
      "\n",
      "[62 rows x 660 columns]\n"
     ]
    }
   ],
   "source": [
    "#Fill the remaining missing values with already available values\n",
    "data = data.fillna(method='ffill')\n",
    "data = data.fillna(method='bfill')\n",
    "print(data)"
   ]
  },
  {
   "cell_type": "code",
   "execution_count": 17,
   "id": "506ffa1f",
   "metadata": {
    "scrolled": false
   },
   "outputs": [
    {
     "name": "stdout",
     "output_type": "stream",
     "text": [
      "Ticker        AAA    AAM    ABT    ACB    ACC    ACL    ACM  ADC    ADS  \\\n",
      "DTYYYYMMDD                                                                \n",
      "20180403    0.068  0.024 -0.023 -0.004  0.020  0.058  0.000  0.0 -0.003   \n",
      "20180404    0.056 -0.023  0.013  0.002  0.000 -0.001 -0.091  0.0  0.003   \n",
      "20180405   -0.021  0.000 -0.001  0.014 -0.024 -0.043  0.000  0.0  0.003   \n",
      "20180406   -0.002 -0.005  0.004  0.022  0.000  0.033  0.100  0.0  0.000   \n",
      "20180409    0.070 -0.014  0.003  0.004  0.000  0.014  0.000  0.0 -0.021   \n",
      "...           ...    ...    ...    ...    ...    ...    ...  ...    ...   \n",
      "20180625   -0.008  0.040  0.000 -0.003 -0.027  0.000  0.000  0.0  0.003   \n",
      "20180626   -0.008  0.029  0.012 -0.015  0.000  0.000  0.000  0.0 -0.003   \n",
      "20180627   -0.023 -0.014  0.000 -0.031  0.000  0.000  0.000  0.0 -0.003   \n",
      "20180628    0.003  0.009 -0.012 -0.037 -0.011  0.000  0.000  0.0 -0.003   \n",
      "20180629    0.000  0.005  0.000 -0.014  0.006  0.000  0.000  0.0  0.000   \n",
      "\n",
      "Ticker        AGM  ...    VTB  VTH    VTJ  VTL    VTO    VTV   VXB    WCS  \\\n",
      "DTYYYYMMDD         ...                                                      \n",
      "20180403    0.001  ... -0.003  0.0  0.043  0.0  0.001  0.060  0.00  0.000   \n",
      "20180404    0.003  ...  0.000  0.0  0.000  0.0  0.017 -0.032  0.00 -0.002   \n",
      "20180405    0.007  ...  0.015  0.0  0.000  0.0 -0.012  0.020  0.00  0.000   \n",
      "20180406   -0.005  ...  0.020  0.0  0.000  0.0  0.002 -0.026  0.00  0.000   \n",
      "20180409   -0.070  ...  0.050  0.0  0.000  0.0  0.027  0.000  0.00  0.002   \n",
      "...           ...  ...    ...  ...    ...  ...    ...    ...   ...    ...   \n",
      "20180625   -0.047  ... -0.050  0.0  0.000  0.0  0.004  0.000  0.02 -0.004   \n",
      "20180626    0.001  ...  0.000  0.0  0.000  0.0 -0.011 -0.020  0.00 -0.070   \n",
      "20180627    0.058  ...  0.025  0.0  0.000  0.0  0.010  0.000  0.00  0.059   \n",
      "20180628    0.029  ...  0.067  0.0  0.000  0.0  0.010 -0.007  0.00  0.000   \n",
      "20180629   -0.060  ... -0.009  0.0  0.000  0.0  0.000 -0.035  0.00  0.072   \n",
      "\n",
      "Ticker        WSS    X20  \n",
      "DTYYYYMMDD                \n",
      "20180403   -0.027  0.000  \n",
      "20180404   -0.056  0.000  \n",
      "20180405    0.059 -0.097  \n",
      "20180406    0.028  0.042  \n",
      "20180409   -0.054  0.000  \n",
      "...           ...    ...  \n",
      "20180625    0.000  0.000  \n",
      "20180626    0.000  0.000  \n",
      "20180627   -0.033  0.000  \n",
      "20180628   -0.034  0.000  \n",
      "20180629    0.000  0.000  \n",
      "\n",
      "[61 rows x 660 columns]\n"
     ]
    }
   ],
   "source": [
    "import numpy as np\n",
    "\n",
    "#Calculate returns and create a data frame\n",
    "returns = data.pct_change()\n",
    "\n",
    "returns.replace([np.inf, -np.inf], np.nan, inplace=True)\n",
    "returns.dropna(inplace=True)\n",
    "\n",
    "print(returns)\n",
    "data1 = returns\n"
   ]
  },
  {
   "cell_type": "code",
   "execution_count": 18,
   "id": "12e4f81f",
   "metadata": {},
   "outputs": [
    {
     "data": {
      "text/html": [
       "<div>\n",
       "<style scoped>\n",
       "    .dataframe tbody tr th:only-of-type {\n",
       "        vertical-align: middle;\n",
       "    }\n",
       "\n",
       "    .dataframe tbody tr th {\n",
       "        vertical-align: top;\n",
       "    }\n",
       "\n",
       "    .dataframe thead th {\n",
       "        text-align: right;\n",
       "    }\n",
       "</style>\n",
       "<table border=\"1\" class=\"dataframe\">\n",
       "  <thead>\n",
       "    <tr style=\"text-align: right;\">\n",
       "      <th>Ticker</th>\n",
       "      <th>AAA</th>\n",
       "      <th>AAM</th>\n",
       "      <th>ABT</th>\n",
       "      <th>ACB</th>\n",
       "      <th>ACC</th>\n",
       "      <th>ACL</th>\n",
       "      <th>ACM</th>\n",
       "      <th>ADC</th>\n",
       "      <th>ADS</th>\n",
       "      <th>AGM</th>\n",
       "      <th>...</th>\n",
       "      <th>VTB</th>\n",
       "      <th>VTH</th>\n",
       "      <th>VTJ</th>\n",
       "      <th>VTL</th>\n",
       "      <th>VTO</th>\n",
       "      <th>VTV</th>\n",
       "      <th>VXB</th>\n",
       "      <th>WCS</th>\n",
       "      <th>WSS</th>\n",
       "      <th>X20</th>\n",
       "    </tr>\n",
       "  </thead>\n",
       "  <tbody>\n",
       "    <tr>\n",
       "      <th>0</th>\n",
       "      <td>0.068</td>\n",
       "      <td>0.024</td>\n",
       "      <td>-0.023</td>\n",
       "      <td>-0.004</td>\n",
       "      <td>0.020</td>\n",
       "      <td>0.058</td>\n",
       "      <td>0.000</td>\n",
       "      <td>0.0</td>\n",
       "      <td>-0.003</td>\n",
       "      <td>0.001</td>\n",
       "      <td>...</td>\n",
       "      <td>-0.003</td>\n",
       "      <td>0.0</td>\n",
       "      <td>0.043</td>\n",
       "      <td>0.0</td>\n",
       "      <td>0.001</td>\n",
       "      <td>0.060</td>\n",
       "      <td>0.0</td>\n",
       "      <td>0.000</td>\n",
       "      <td>-0.027</td>\n",
       "      <td>0.000</td>\n",
       "    </tr>\n",
       "    <tr>\n",
       "      <th>1</th>\n",
       "      <td>0.056</td>\n",
       "      <td>-0.023</td>\n",
       "      <td>0.013</td>\n",
       "      <td>0.002</td>\n",
       "      <td>0.000</td>\n",
       "      <td>-0.001</td>\n",
       "      <td>-0.091</td>\n",
       "      <td>0.0</td>\n",
       "      <td>0.003</td>\n",
       "      <td>0.003</td>\n",
       "      <td>...</td>\n",
       "      <td>0.000</td>\n",
       "      <td>0.0</td>\n",
       "      <td>0.000</td>\n",
       "      <td>0.0</td>\n",
       "      <td>0.017</td>\n",
       "      <td>-0.032</td>\n",
       "      <td>0.0</td>\n",
       "      <td>-0.002</td>\n",
       "      <td>-0.056</td>\n",
       "      <td>0.000</td>\n",
       "    </tr>\n",
       "    <tr>\n",
       "      <th>2</th>\n",
       "      <td>-0.021</td>\n",
       "      <td>0.000</td>\n",
       "      <td>-0.001</td>\n",
       "      <td>0.014</td>\n",
       "      <td>-0.024</td>\n",
       "      <td>-0.043</td>\n",
       "      <td>0.000</td>\n",
       "      <td>0.0</td>\n",
       "      <td>0.003</td>\n",
       "      <td>0.007</td>\n",
       "      <td>...</td>\n",
       "      <td>0.015</td>\n",
       "      <td>0.0</td>\n",
       "      <td>0.000</td>\n",
       "      <td>0.0</td>\n",
       "      <td>-0.012</td>\n",
       "      <td>0.020</td>\n",
       "      <td>0.0</td>\n",
       "      <td>0.000</td>\n",
       "      <td>0.059</td>\n",
       "      <td>-0.097</td>\n",
       "    </tr>\n",
       "    <tr>\n",
       "      <th>3</th>\n",
       "      <td>-0.002</td>\n",
       "      <td>-0.005</td>\n",
       "      <td>0.004</td>\n",
       "      <td>0.022</td>\n",
       "      <td>0.000</td>\n",
       "      <td>0.033</td>\n",
       "      <td>0.100</td>\n",
       "      <td>0.0</td>\n",
       "      <td>0.000</td>\n",
       "      <td>-0.005</td>\n",
       "      <td>...</td>\n",
       "      <td>0.020</td>\n",
       "      <td>0.0</td>\n",
       "      <td>0.000</td>\n",
       "      <td>0.0</td>\n",
       "      <td>0.002</td>\n",
       "      <td>-0.026</td>\n",
       "      <td>0.0</td>\n",
       "      <td>0.000</td>\n",
       "      <td>0.028</td>\n",
       "      <td>0.042</td>\n",
       "    </tr>\n",
       "    <tr>\n",
       "      <th>4</th>\n",
       "      <td>0.070</td>\n",
       "      <td>-0.014</td>\n",
       "      <td>0.003</td>\n",
       "      <td>0.004</td>\n",
       "      <td>0.000</td>\n",
       "      <td>0.014</td>\n",
       "      <td>0.000</td>\n",
       "      <td>0.0</td>\n",
       "      <td>-0.021</td>\n",
       "      <td>-0.070</td>\n",
       "      <td>...</td>\n",
       "      <td>0.050</td>\n",
       "      <td>0.0</td>\n",
       "      <td>0.000</td>\n",
       "      <td>0.0</td>\n",
       "      <td>0.027</td>\n",
       "      <td>0.000</td>\n",
       "      <td>0.0</td>\n",
       "      <td>0.002</td>\n",
       "      <td>-0.054</td>\n",
       "      <td>0.000</td>\n",
       "    </tr>\n",
       "  </tbody>\n",
       "</table>\n",
       "<p>5 rows × 660 columns</p>\n",
       "</div>"
      ],
      "text/plain": [
       "Ticker    AAA    AAM    ABT    ACB    ACC    ACL    ACM  ADC    ADS    AGM  \\\n",
       "0       0.068  0.024 -0.023 -0.004  0.020  0.058  0.000  0.0 -0.003  0.001   \n",
       "1       0.056 -0.023  0.013  0.002  0.000 -0.001 -0.091  0.0  0.003  0.003   \n",
       "2      -0.021  0.000 -0.001  0.014 -0.024 -0.043  0.000  0.0  0.003  0.007   \n",
       "3      -0.002 -0.005  0.004  0.022  0.000  0.033  0.100  0.0  0.000 -0.005   \n",
       "4       0.070 -0.014  0.003  0.004  0.000  0.014  0.000  0.0 -0.021 -0.070   \n",
       "\n",
       "Ticker  ...    VTB  VTH    VTJ  VTL    VTO    VTV  VXB    WCS    WSS    X20  \n",
       "0       ... -0.003  0.0  0.043  0.0  0.001  0.060  0.0  0.000 -0.027  0.000  \n",
       "1       ...  0.000  0.0  0.000  0.0  0.017 -0.032  0.0 -0.002 -0.056  0.000  \n",
       "2       ...  0.015  0.0  0.000  0.0 -0.012  0.020  0.0  0.000  0.059 -0.097  \n",
       "3       ...  0.020  0.0  0.000  0.0  0.002 -0.026  0.0  0.000  0.028  0.042  \n",
       "4       ...  0.050  0.0  0.000  0.0  0.027  0.000  0.0  0.002 -0.054  0.000  \n",
       "\n",
       "[5 rows x 660 columns]"
      ]
     },
     "execution_count": 18,
     "metadata": {},
     "output_type": "execute_result"
    }
   ],
   "source": [
    "returns = returns.reset_index()\n",
    "returns = returns.drop(['DTYYYYMMDD'], axis=1)\n",
    "returns.head()"
   ]
  },
  {
   "cell_type": "code",
   "execution_count": 19,
   "id": "782d8c26",
   "metadata": {},
   "outputs": [
    {
     "data": {
      "text/html": [
       "<h1>PCA Decomposition</h1>\n"
      ],
      "text/plain": [
       "<IPython.core.display.HTML object>"
      ]
     },
     "metadata": {},
     "output_type": "display_data"
    }
   ],
   "source": [
    "%%HTML\n",
    "<h1>PCA Decomposition</h1>"
   ]
  },
  {
   "cell_type": "code",
   "execution_count": 20,
   "id": "16032e1f",
   "metadata": {},
   "outputs": [
    {
     "data": {
      "text/plain": [
       "PCA(n_components=50)"
      ]
     },
     "execution_count": 20,
     "metadata": {},
     "output_type": "execute_result"
    }
   ],
   "source": [
    "# Importing PCA\n",
    "from sklearn.decomposition import PCA\n",
    "  \n",
    "# Let's say, components = 5\n",
    "N_PRIN_COMPONENTS = 50\n",
    "pca = PCA(n_components=N_PRIN_COMPONENTS)\n",
    "pca.fit(returns)"
   ]
  },
  {
   "cell_type": "code",
   "execution_count": 21,
   "id": "912fafbd",
   "metadata": {},
   "outputs": [
    {
     "data": {
      "text/plain": [
       "(660, 50)"
      ]
     },
     "execution_count": 21,
     "metadata": {},
     "output_type": "execute_result"
    }
   ],
   "source": [
    "pca.components_.T.shape"
   ]
  },
  {
   "cell_type": "code",
   "execution_count": 22,
   "id": "6fd1d88b",
   "metadata": {
    "scrolled": true
   },
   "outputs": [
    {
     "data": {
      "text/html": [
       "<h1>Customized Features</h1>\n"
      ],
      "text/plain": [
       "<IPython.core.display.HTML object>"
      ]
     },
     "metadata": {},
     "output_type": "display_data"
    }
   ],
   "source": [
    "%%HTML\n",
    "<h1>Customized Features</h1>"
   ]
  },
  {
   "cell_type": "code",
   "execution_count": 23,
   "id": "2266acbb",
   "metadata": {},
   "outputs": [
    {
     "data": {
      "text/html": [
       "<h3>We will be adding some fundamental values as well to make the model more robust</h3>\n"
      ],
      "text/plain": [
       "<IPython.core.display.HTML object>"
      ]
     },
     "metadata": {},
     "output_type": "display_data"
    }
   ],
   "source": [
    "%%HTML\n",
    "<h3>We will be adding some fundamental values as well to make the model more robust</h3>"
   ]
  },
  {
   "cell_type": "code",
   "execution_count": 25,
   "id": "ea67de2a",
   "metadata": {},
   "outputs": [
    {
     "name": "stdout",
     "output_type": "stream",
     "text": [
      "        mean returns  volatility\n",
      "Ticker                          \n",
      "AAA            0.074       0.243\n",
      "AAM            0.034       0.104\n",
      "ABT            0.052       0.202\n",
      "ACB           -0.292       0.246\n",
      "ACC           -0.029       0.173\n",
      "...              ...         ...\n",
      "VTV           -0.024       0.303\n",
      "VXB            0.174       0.237\n",
      "WCS           -0.054       0.252\n",
      "WSS           -0.257       0.208\n",
      "X20           -0.554       0.332\n",
      "\n",
      "[660 rows x 2 columns]\n"
     ]
    }
   ],
   "source": [
    "import numpy as np\n",
    "\n",
    "#Calculate returns and create a data frame\n",
    "returns1 = data.pct_change().mean()*61\n",
    "returns1 = pd.DataFrame(returns1)\n",
    "returns1.columns = ['mean returns']\n",
    "\n",
    "#Calculate the volatility\n",
    "returns1['volatility'] = data.pct_change().std()*np.sqrt(61)\n",
    "print(returns1)\n",
    "\n",
    "returns1.to_excel('./data/MaNganh.xlsx')\n",
    "\n"
   ]
  },
  {
   "cell_type": "code",
   "execution_count": null,
   "id": "72ceffd4",
   "metadata": {
    "scrolled": false
   },
   "outputs": [],
   "source": [
    "X = np.hstack((pca.components_.T, returns1))\n",
    "print(X.shape)"
   ]
  },
  {
   "cell_type": "code",
   "execution_count": null,
   "id": "1746f2f0",
   "metadata": {},
   "outputs": [],
   "source": [
    "%%HTML\n",
    "<h1>Scale the Data</h1>"
   ]
  },
  {
   "cell_type": "code",
   "execution_count": null,
   "id": "6944f3eb",
   "metadata": {},
   "outputs": [],
   "source": [
    "from sklearn import preprocessing\n",
    "\n",
    "X = preprocessing.StandardScaler().fit_transform(X)\n",
    "print(X.shape)"
   ]
  },
  {
   "cell_type": "code",
   "execution_count": null,
   "id": "f9551ddf",
   "metadata": {
    "scrolled": false
   },
   "outputs": [],
   "source": [
    "from sklearn.neighbors import NearestNeighbors\n",
    "import matplotlib.pyplot as plt\n",
    "# Xây dựng mô hình k-Means với k=3\n",
    "neighbors = 3\n",
    "nbrs = NearestNeighbors(n_neighbors=neighbors ).fit(X)\n",
    "\n",
    "# Ma trận khoảng cách distances: (N, k)\n",
    "distances, indices = nbrs.kneighbors(X)\n",
    "\n",
    "# Lấy ra khoảng cách xa nhất từ phạm vi láng giềng của mỗi điểm và sắp xếp theo thứ tự giảm dần.\n",
    "distance_desc = sorted(distances[:, neighbors-1], reverse=True)\n",
    "\n",
    "# Vẽ biểu đồ khoảng cách xa nhất ở trên theo thứ tự giảm dần\n",
    "plt.figure(figsize=(12, 8))\n",
    "plt.plot(list(range(1,len(distance_desc )+1)), distance_desc)\n",
    "plt.axhline(y=0.65)\n",
    "plt.text(2, 0.65, 'y= 0.65', fontsize=12)\n",
    "plt.axhline(y=0.8)\n",
    "plt.text(2, 0.8,'y = 0.8', fontsize=12)\n",
    "plt.ylabel('distance')\n",
    "plt.xlabel('indice')\n",
    "plt.title('Sorting Maximum Distance in k Nearest Neighbor of kNN')"
   ]
  },
  {
   "cell_type": "code",
   "execution_count": null,
   "id": "68b0ae7e",
   "metadata": {},
   "outputs": [],
   "source": [
    "%%HTML\n",
    "<h1>DBSCAN Clustering</h1>"
   ]
  },
  {
   "cell_type": "code",
   "execution_count": null,
   "id": "195fa600",
   "metadata": {
    "scrolled": true
   },
   "outputs": [],
   "source": [
    "from sklearn.cluster import KMeans, DBSCAN\n",
    "clf = DBSCAN(eps=2.27,min_samples=3)\n",
    "print(clf)\n",
    "\n",
    "clf.fit(X)\n",
    "labels = clf.labels_\n",
    "n_clusters_ = len(set(labels)) - (1 if -1 in labels else 0)\n",
    "print (\"\\nClusters discovered: %d\" % n_clusters_)\n",
    "\n",
    "clustered = clf.labels_"
   ]
  },
  {
   "cell_type": "code",
   "execution_count": null,
   "id": "aa5d0bb8",
   "metadata": {
    "scrolled": false
   },
   "outputs": [],
   "source": [
    "from sklearn import metrics\n",
    "print(\"dbscan\", metrics.silhouette_score(X, clf.labels_, metric='euclidean'))"
   ]
  },
  {
   "cell_type": "code",
   "execution_count": null,
   "id": "0444788a",
   "metadata": {},
   "outputs": [],
   "source": [
    "%%HTML\n",
    "<h1>Cluster Visualization</h1>"
   ]
  },
  {
   "cell_type": "code",
   "execution_count": null,
   "id": "1dce2e2a",
   "metadata": {},
   "outputs": [],
   "source": [
    "# the initial dimensionality of the search was\n",
    "ticker_count = len(returns.columns)\n",
    "print(\"Total pairs possible in universe: %d \" % (ticker_count*(ticker_count-1)/2))"
   ]
  },
  {
   "cell_type": "code",
   "execution_count": null,
   "id": "9d5cd5a8",
   "metadata": {
    "scrolled": false
   },
   "outputs": [],
   "source": [
    "clustered_series = pd.Series(index=returns.columns, data=clustered.flatten())\n",
    "clustered_series_all = pd.Series(index=returns.columns, data=clustered.flatten())\n",
    "clustered_series = clustered_series[clustered_series != -1]"
   ]
  },
  {
   "cell_type": "code",
   "execution_count": null,
   "id": "7746eebe",
   "metadata": {},
   "outputs": [],
   "source": [
    "from sklearn.manifold import TSNE\n",
    "X_tsne = TSNE(init = \"random\", learning_rate=1000, perplexity=25, random_state=1337).fit_transform(X)"
   ]
  },
  {
   "cell_type": "code",
   "execution_count": null,
   "id": "99f8728f",
   "metadata": {},
   "outputs": [],
   "source": [
    "import matplotlib.cm as cm\n",
    "plt.figure(1, facecolor='white')\n",
    "plt.clf()\n",
    "plt.axis('off')\n",
    "plt.scatter(\n",
    "    X_tsne[(labels!=-1), 0],\n",
    "    X_tsne[(labels!=-1), 1],\n",
    "    s=100,\n",
    "    alpha=0.85,\n",
    "    c=labels[labels!=-1],\n",
    "    cmap=cm.Paired\n",
    ")\n",
    "\n",
    "plt.scatter(\n",
    "    X_tsne[(clustered_series_all==-1).values, 0],\n",
    "    X_tsne[(clustered_series_all==-1).values, 1],\n",
    "    s=100,\n",
    "    alpha=0.05\n",
    ")\n",
    "\n",
    "plt.title('T-SNE of all Stocks with DBSCAN Clusters Noted');"
   ]
  },
  {
   "cell_type": "code",
   "execution_count": null,
   "id": "96c49182",
   "metadata": {},
   "outputs": [],
   "source": [
    "plt.barh(range(len(clustered_series.value_counts())), clustered_series.value_counts())\n",
    "plt.title('Cluster Member Counts')\n",
    "plt.xlabel('Stocks in Cluster')\n",
    "plt.ylabel('Cluster Number')"
   ]
  },
  {
   "cell_type": "code",
   "execution_count": null,
   "id": "0cc189dd",
   "metadata": {
    "scrolled": false
   },
   "outputs": [],
   "source": [
    "# get the number of stocks in each cluster\n",
    "counts = clustered_series.value_counts()\n",
    "\n",
    "# let's visualize some clusters\n",
    "cluster_vis_list = list(counts[(counts<20) & (counts>1)].index)[::-1]\n",
    "\n",
    "# plot a handful of the smallest clusters\n",
    "for clust in cluster_vis_list[0:min(len(cluster_vis_list), 3)]:\n",
    "    tickers = list(clustered_series[clustered_series==clust].index)\n",
    "    means = np.log(data[tickers].mean())\n",
    "    datas = np.log(data[tickers]).sub(means)\n",
    "    datas.plot(title='Stock Time Series for Cluster %d' % clust)"
   ]
  },
  {
   "cell_type": "code",
   "execution_count": null,
   "id": "d73cfa82",
   "metadata": {},
   "outputs": [],
   "source": [
    "%%HTML\n",
    "<h1>Pair Selection</h1>"
   ]
  },
  {
   "cell_type": "code",
   "execution_count": null,
   "id": "67769363",
   "metadata": {},
   "outputs": [],
   "source": [
    "CLUSTER_SIZE_LIMIT = 9999\n",
    "counts = clustered_series.value_counts()\n",
    "ticker_count_reduced = counts[(counts>1) & (counts<=CLUSTER_SIZE_LIMIT)]\n",
    "print (\"Clusters formed: %d\" % len(ticker_count_reduced))\n",
    "print (\"Pairs to evaluate: %d\" % (ticker_count_reduced*(ticker_count_reduced-1)).sum())"
   ]
  },
  {
   "cell_type": "code",
   "execution_count": null,
   "id": "80295f8f",
   "metadata": {},
   "outputs": [],
   "source": [
    "%%HTML\n",
    "<h3>Cointegration and pair selection function</h3>"
   ]
  },
  {
   "cell_type": "code",
   "execution_count": null,
   "id": "70788095",
   "metadata": {},
   "outputs": [],
   "source": [
    "def find_cointegrated_pairs(data, significance=0.05):\n",
    "    # This function is from https://www.quantopian.com/lectures/introduction-to-pairs-trading\n",
    "    n = data.shape[1]\n",
    "    score_matrix = np.zeros((n, n))\n",
    "    pvalue_matrix = np.ones((n, n))\n",
    "    keys = data.keys()\n",
    "    pairs = []\n",
    "    for i in range(1):\n",
    "        for j in range(i+1, n):\n",
    "            S1 = data[keys[i]]            \n",
    "            S2 = data[keys[j]]\n",
    "            result = coint(S1, S2)\n",
    "            score = result[0]\n",
    "            pvalue = result[1]\n",
    "            score_matrix[i, j] = score\n",
    "            pvalue_matrix[i, j] = pvalue\n",
    "            if pvalue < significance:\n",
    "                pairs.append((keys[i], keys[j]))\n",
    "    return score_matrix, pvalue_matrix, pairs"
   ]
  },
  {
   "cell_type": "code",
   "execution_count": null,
   "id": "8005c43d",
   "metadata": {},
   "outputs": [],
   "source": [
    "from statsmodels.tsa.stattools import coint\n",
    "\n",
    "cluster_dict = {}\n",
    "for i, which_clust in enumerate(ticker_count_reduced.index):\n",
    "    tickers = clustered_series[clustered_series == which_clust].index\n",
    "    score_matrix, pvalue_matrix, pairs = find_cointegrated_pairs(returns[tickers])\n",
    "    cluster_dict[which_clust] = {}\n",
    "    cluster_dict[which_clust]['score_matrix'] = score_matrix\n",
    "    cluster_dict[which_clust]['pvalue_matrix'] = pvalue_matrix\n",
    "    cluster_dict[which_clust]['pairs'] = pairs"
   ]
  },
  {
   "cell_type": "code",
   "execution_count": null,
   "id": "b117eb47",
   "metadata": {},
   "outputs": [],
   "source": [
    "pairs = []\n",
    "for clust in cluster_dict.keys():\n",
    "    pairs.extend(cluster_dict[clust]['pairs'])"
   ]
  },
  {
   "cell_type": "code",
   "execution_count": null,
   "id": "ca6ccd43",
   "metadata": {
    "scrolled": false
   },
   "outputs": [],
   "source": [
    "pairs"
   ]
  },
  {
   "cell_type": "code",
   "execution_count": null,
   "id": "51f9e442",
   "metadata": {},
   "outputs": [],
   "source": [
    "%%HTML\n",
    "<h1>TSNE Visualization of Pairs</h1>"
   ]
  },
  {
   "cell_type": "code",
   "execution_count": null,
   "id": "9ab9bf4c",
   "metadata": {},
   "outputs": [],
   "source": [
    "from sklearn.manifold import TSNE\n",
    "import matplotlib.cm as cm\n",
    "\n",
    "stocks = np.unique(pairs)\n",
    "X_df = pd.DataFrame(index=returns.T.index, data=X)\n",
    "in_pairs_series = clustered_series.loc[stocks]\n",
    "stocks = list(np.unique(pairs))\n",
    "X_pairs = X_df.loc[stocks]\n",
    "\n",
    "X_tsne = TSNE(init = \"random\", learning_rate=50, perplexity=3, random_state=1337).fit_transform(X_pairs)"
   ]
  },
  {
   "cell_type": "code",
   "execution_count": null,
   "id": "b6786110",
   "metadata": {},
   "outputs": [],
   "source": [
    "plt.figure(1, facecolor='white',figsize=(15,10))\n",
    "plt.clf()\n",
    "plt.axis('off')\n",
    "for pair in pairs:\n",
    "    ticker1 = pair[0]\n",
    "    loc1 = X_pairs.index.get_loc(pair[0])\n",
    "    x1, y1 = X_tsne[loc1, :]\n",
    "    ticker2 = pair[1]\n",
    "    loc2 = X_pairs.index.get_loc(pair[1])\n",
    "    x2, y2 = X_tsne[loc2, :]\n",
    "    plt.plot([x1, x2], [y1, y2], 'k-', alpha=0.3);\n",
    "    \n",
    "plt.scatter(X_tsne[:, 0], X_tsne[:, 1], s=215, alpha=0.8, c=in_pairs_series.values, cmap=cm.Paired)\n",
    "plt.title('TSNE Visualization of Pairs'); \n",
    "\n",
    "# Join pairs by x and y\n",
    "for x,y,name in zip(X_tsne[:,0],X_tsne[:,1],X_pairs.index):\n",
    "\n",
    "    label = name\n",
    "\n",
    "    plt.annotate(label,\n",
    "                 (x,y),\n",
    "                 textcoords=\"offset points\",\n",
    "                 xytext=(0,10),\n",
    "                 ha='center')\n",
    "    \n",
    "plt.show()"
   ]
  },
  {
   "cell_type": "code",
   "execution_count": null,
   "id": "dc9e5fb3",
   "metadata": {},
   "outputs": [],
   "source": []
  }
 ],
 "metadata": {
  "kernelspec": {
   "display_name": "Python 3 (ipykernel)",
   "language": "python",
   "name": "python3"
  },
  "language_info": {
   "codemirror_mode": {
    "name": "ipython",
    "version": 3
   },
   "file_extension": ".py",
   "mimetype": "text/x-python",
   "name": "python",
   "nbconvert_exporter": "python",
   "pygments_lexer": "ipython3",
   "version": "3.9.13"
  }
 },
 "nbformat": 4,
 "nbformat_minor": 5
}
