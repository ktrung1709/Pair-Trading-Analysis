{
 "cells": [
  {
   "cell_type": "code",
   "execution_count": 1,
   "id": "aeca2063",
   "metadata": {
    "scrolled": true
   },
   "outputs": [
    {
     "data": {
      "text/html": [
       "<h1>Import Data</h1>\n"
      ],
      "text/plain": [
       "<IPython.core.display.HTML object>"
      ]
     },
     "metadata": {},
     "output_type": "display_data"
    }
   ],
   "source": [
    "%%HTML\n",
    "<h1>Import Data</h1>"
   ]
  },
  {
   "cell_type": "code",
   "execution_count": 2,
   "id": "af7ed849",
   "metadata": {
    "scrolled": true
   },
   "outputs": [
    {
     "data": {
      "text/html": [
       "<div>\n",
       "<style scoped>\n",
       "    .dataframe tbody tr th:only-of-type {\n",
       "        vertical-align: middle;\n",
       "    }\n",
       "\n",
       "    .dataframe tbody tr th {\n",
       "        vertical-align: top;\n",
       "    }\n",
       "\n",
       "    .dataframe thead th {\n",
       "        text-align: right;\n",
       "    }\n",
       "</style>\n",
       "<table border=\"1\" class=\"dataframe\">\n",
       "  <thead>\n",
       "    <tr style=\"text-align: right;\">\n",
       "      <th></th>\n",
       "      <th>&lt;Ticker&gt;</th>\n",
       "      <th>&lt;DTYYYYMMDD&gt;</th>\n",
       "      <th>&lt;Open&gt;</th>\n",
       "      <th>&lt;High&gt;</th>\n",
       "      <th>&lt;Low&gt;</th>\n",
       "      <th>&lt;Close&gt;</th>\n",
       "      <th>&lt;Volume&gt;</th>\n",
       "    </tr>\n",
       "  </thead>\n",
       "  <tbody>\n",
       "    <tr>\n",
       "      <th>0</th>\n",
       "      <td>AAV</td>\n",
       "      <td>20210730</td>\n",
       "      <td>12.4</td>\n",
       "      <td>12.4</td>\n",
       "      <td>12.1</td>\n",
       "      <td>12.4</td>\n",
       "      <td>166400</td>\n",
       "    </tr>\n",
       "    <tr>\n",
       "      <th>1</th>\n",
       "      <td>ABT</td>\n",
       "      <td>20210730</td>\n",
       "      <td>26.0</td>\n",
       "      <td>27.2</td>\n",
       "      <td>26.0</td>\n",
       "      <td>27.1</td>\n",
       "      <td>1207</td>\n",
       "    </tr>\n",
       "    <tr>\n",
       "      <th>2</th>\n",
       "      <td>ACM</td>\n",
       "      <td>20210730</td>\n",
       "      <td>2.3</td>\n",
       "      <td>2.4</td>\n",
       "      <td>2.3</td>\n",
       "      <td>2.4</td>\n",
       "      <td>592463</td>\n",
       "    </tr>\n",
       "    <tr>\n",
       "      <th>3</th>\n",
       "      <td>ADC</td>\n",
       "      <td>20210730</td>\n",
       "      <td>21.5</td>\n",
       "      <td>21.5</td>\n",
       "      <td>21.5</td>\n",
       "      <td>21.5</td>\n",
       "      <td>0</td>\n",
       "    </tr>\n",
       "    <tr>\n",
       "      <th>4</th>\n",
       "      <td>ALT</td>\n",
       "      <td>20210730</td>\n",
       "      <td>12.7</td>\n",
       "      <td>12.7</td>\n",
       "      <td>12.7</td>\n",
       "      <td>12.7</td>\n",
       "      <td>0</td>\n",
       "    </tr>\n",
       "  </tbody>\n",
       "</table>\n",
       "</div>"
      ],
      "text/plain": [
       "  <Ticker>  <DTYYYYMMDD>  <Open>  <High>  <Low>  <Close>  <Volume>\n",
       "0      AAV      20210730    12.4    12.4   12.1     12.4    166400\n",
       "1      ABT      20210730    26.0    27.2   26.0     27.1      1207\n",
       "2      ACM      20210730     2.3     2.4    2.3      2.4    592463\n",
       "3      ADC      20210730    21.5    21.5   21.5     21.5         0\n",
       "4      ALT      20210730    12.7    12.7   12.7     12.7         0"
      ]
     },
     "execution_count": 2,
     "metadata": {},
     "output_type": "execute_result"
    }
   ],
   "source": [
    "import pandas as pd\n",
    "df1 = pd.read_csv('./data/210730_HNX_ALL.txt', sep = ',')\n",
    "df2 = pd.read_csv('./data/210730_HOSE_ALL.txt', sep = ',')\n",
    "\n",
    "frames = [df1, df2]\n",
    "df = pd.concat(frames, ignore_index = True)\n",
    "df.head()"
   ]
  },
  {
   "cell_type": "code",
   "execution_count": 3,
   "id": "f2d58dce",
   "metadata": {
    "scrolled": true
   },
   "outputs": [
    {
     "data": {
      "text/html": [
       "<h1>Extract Data</h1>\n"
      ],
      "text/plain": [
       "<IPython.core.display.HTML object>"
      ]
     },
     "metadata": {},
     "output_type": "display_data"
    }
   ],
   "source": [
    "%%HTML\n",
    "<h1>Extract Data</h1>"
   ]
  },
  {
   "cell_type": "code",
   "execution_count": 4,
   "id": "ea81223b",
   "metadata": {
    "scrolled": true
   },
   "outputs": [
    {
     "data": {
      "text/html": [
       "<div>\n",
       "<style scoped>\n",
       "    .dataframe tbody tr th:only-of-type {\n",
       "        vertical-align: middle;\n",
       "    }\n",
       "\n",
       "    .dataframe tbody tr th {\n",
       "        vertical-align: top;\n",
       "    }\n",
       "\n",
       "    .dataframe thead th {\n",
       "        text-align: right;\n",
       "    }\n",
       "</style>\n",
       "<table border=\"1\" class=\"dataframe\">\n",
       "  <thead>\n",
       "    <tr style=\"text-align: right;\">\n",
       "      <th></th>\n",
       "      <th>Ticker</th>\n",
       "      <th>DTYYYYMMDD</th>\n",
       "      <th>Open</th>\n",
       "      <th>High</th>\n",
       "      <th>Low</th>\n",
       "      <th>Close</th>\n",
       "      <th>Volume</th>\n",
       "    </tr>\n",
       "  </thead>\n",
       "  <tbody>\n",
       "    <tr>\n",
       "      <th>0</th>\n",
       "      <td>AAV</td>\n",
       "      <td>2021-07-30</td>\n",
       "      <td>12.4</td>\n",
       "      <td>12.4</td>\n",
       "      <td>12.1</td>\n",
       "      <td>12.4</td>\n",
       "      <td>166400</td>\n",
       "    </tr>\n",
       "    <tr>\n",
       "      <th>1</th>\n",
       "      <td>ABT</td>\n",
       "      <td>2021-07-30</td>\n",
       "      <td>26.0</td>\n",
       "      <td>27.2</td>\n",
       "      <td>26.0</td>\n",
       "      <td>27.1</td>\n",
       "      <td>1207</td>\n",
       "    </tr>\n",
       "    <tr>\n",
       "      <th>2</th>\n",
       "      <td>ACM</td>\n",
       "      <td>2021-07-30</td>\n",
       "      <td>2.3</td>\n",
       "      <td>2.4</td>\n",
       "      <td>2.3</td>\n",
       "      <td>2.4</td>\n",
       "      <td>592463</td>\n",
       "    </tr>\n",
       "    <tr>\n",
       "      <th>3</th>\n",
       "      <td>ADC</td>\n",
       "      <td>2021-07-30</td>\n",
       "      <td>21.5</td>\n",
       "      <td>21.5</td>\n",
       "      <td>21.5</td>\n",
       "      <td>21.5</td>\n",
       "      <td>0</td>\n",
       "    </tr>\n",
       "    <tr>\n",
       "      <th>4</th>\n",
       "      <td>ALT</td>\n",
       "      <td>2021-07-30</td>\n",
       "      <td>12.7</td>\n",
       "      <td>12.7</td>\n",
       "      <td>12.7</td>\n",
       "      <td>12.7</td>\n",
       "      <td>0</td>\n",
       "    </tr>\n",
       "  </tbody>\n",
       "</table>\n",
       "</div>"
      ],
      "text/plain": [
       "  Ticker DTYYYYMMDD  Open  High   Low  Close  Volume\n",
       "0    AAV 2021-07-30  12.4  12.4  12.1   12.4  166400\n",
       "1    ABT 2021-07-30  26.0  27.2  26.0   27.1    1207\n",
       "2    ACM 2021-07-30   2.3   2.4   2.3    2.4  592463\n",
       "3    ADC 2021-07-30  21.5  21.5  21.5   21.5       0\n",
       "4    ALT 2021-07-30  12.7  12.7  12.7   12.7       0"
      ]
     },
     "execution_count": 4,
     "metadata": {},
     "output_type": "execute_result"
    }
   ],
   "source": [
    "# Remove redundant characters\n",
    "df.columns=df.columns.str.replace('[<,>]','', regex=True)\n",
    "df.head()\n",
    "\n",
    "# Drop duplicate records\n",
    "df_modified = df.drop_duplicates(subset = ['Ticker', 'DTYYYYMMDD'], keep = 'first')\n",
    "\n",
    "# Change date data type\n",
    "df_modified[\"DTYYYYMMDD\"] = pd.to_datetime(df_modified[\"DTYYYYMMDD\"], format='%Y%m%d')\n",
    "df_modified.head()"
   ]
  },
  {
   "cell_type": "code",
   "execution_count": 5,
   "id": "7207c034",
   "metadata": {
    "scrolled": true
   },
   "outputs": [
    {
     "data": {
      "text/html": [
       "<div>\n",
       "<style scoped>\n",
       "    .dataframe tbody tr th:only-of-type {\n",
       "        vertical-align: middle;\n",
       "    }\n",
       "\n",
       "    .dataframe tbody tr th {\n",
       "        vertical-align: top;\n",
       "    }\n",
       "\n",
       "    .dataframe thead th {\n",
       "        text-align: right;\n",
       "    }\n",
       "</style>\n",
       "<table border=\"1\" class=\"dataframe\">\n",
       "  <thead>\n",
       "    <tr style=\"text-align: right;\">\n",
       "      <th>Ticker</th>\n",
       "      <th>AAA</th>\n",
       "      <th>AAM</th>\n",
       "      <th>AAT</th>\n",
       "      <th>AAV</th>\n",
       "      <th>ABS</th>\n",
       "      <th>ABT</th>\n",
       "      <th>ACB</th>\n",
       "      <th>ACC</th>\n",
       "      <th>ACL</th>\n",
       "      <th>ACM</th>\n",
       "      <th>...</th>\n",
       "      <th>VTJ</th>\n",
       "      <th>VTL</th>\n",
       "      <th>VTO</th>\n",
       "      <th>VTV</th>\n",
       "      <th>VXB</th>\n",
       "      <th>WCS</th>\n",
       "      <th>WSS</th>\n",
       "      <th>X20</th>\n",
       "      <th>YBM</th>\n",
       "      <th>YEG</th>\n",
       "    </tr>\n",
       "    <tr>\n",
       "      <th>DTYYYYMMDD</th>\n",
       "      <th></th>\n",
       "      <th></th>\n",
       "      <th></th>\n",
       "      <th></th>\n",
       "      <th></th>\n",
       "      <th></th>\n",
       "      <th></th>\n",
       "      <th></th>\n",
       "      <th></th>\n",
       "      <th></th>\n",
       "      <th></th>\n",
       "      <th></th>\n",
       "      <th></th>\n",
       "      <th></th>\n",
       "      <th></th>\n",
       "      <th></th>\n",
       "      <th></th>\n",
       "      <th></th>\n",
       "      <th></th>\n",
       "      <th></th>\n",
       "      <th></th>\n",
       "    </tr>\n",
       "  </thead>\n",
       "  <tbody>\n",
       "    <tr>\n",
       "      <th>2012-01-03</th>\n",
       "      <td>2.950</td>\n",
       "      <td>8.336</td>\n",
       "      <td>NaN</td>\n",
       "      <td>NaN</td>\n",
       "      <td>NaN</td>\n",
       "      <td>13.371</td>\n",
       "      <td>5.760</td>\n",
       "      <td>5.259</td>\n",
       "      <td>5.411</td>\n",
       "      <td>NaN</td>\n",
       "      <td>...</td>\n",
       "      <td>NaN</td>\n",
       "      <td>15.657</td>\n",
       "      <td>1.707</td>\n",
       "      <td>1.224</td>\n",
       "      <td>3.521</td>\n",
       "      <td>14.96</td>\n",
       "      <td>3.1</td>\n",
       "      <td>NaN</td>\n",
       "      <td>NaN</td>\n",
       "      <td>NaN</td>\n",
       "    </tr>\n",
       "    <tr>\n",
       "      <th>2012-01-04</th>\n",
       "      <td>2.976</td>\n",
       "      <td>8.487</td>\n",
       "      <td>NaN</td>\n",
       "      <td>NaN</td>\n",
       "      <td>NaN</td>\n",
       "      <td>13.409</td>\n",
       "      <td>5.760</td>\n",
       "      <td>5.289</td>\n",
       "      <td>5.349</td>\n",
       "      <td>NaN</td>\n",
       "      <td>...</td>\n",
       "      <td>NaN</td>\n",
       "      <td>15.657</td>\n",
       "      <td>1.707</td>\n",
       "      <td>1.269</td>\n",
       "      <td>3.521</td>\n",
       "      <td>14.96</td>\n",
       "      <td>2.9</td>\n",
       "      <td>NaN</td>\n",
       "      <td>NaN</td>\n",
       "      <td>NaN</td>\n",
       "    </tr>\n",
       "    <tr>\n",
       "      <th>2012-01-05</th>\n",
       "      <td>2.950</td>\n",
       "      <td>8.374</td>\n",
       "      <td>NaN</td>\n",
       "      <td>NaN</td>\n",
       "      <td>NaN</td>\n",
       "      <td>13.669</td>\n",
       "      <td>5.939</td>\n",
       "      <td>5.053</td>\n",
       "      <td>5.349</td>\n",
       "      <td>NaN</td>\n",
       "      <td>...</td>\n",
       "      <td>NaN</td>\n",
       "      <td>15.657</td>\n",
       "      <td>1.666</td>\n",
       "      <td>1.269</td>\n",
       "      <td>3.298</td>\n",
       "      <td>14.96</td>\n",
       "      <td>2.9</td>\n",
       "      <td>NaN</td>\n",
       "      <td>NaN</td>\n",
       "      <td>NaN</td>\n",
       "    </tr>\n",
       "    <tr>\n",
       "      <th>2012-01-06</th>\n",
       "      <td>2.925</td>\n",
       "      <td>8.374</td>\n",
       "      <td>NaN</td>\n",
       "      <td>NaN</td>\n",
       "      <td>NaN</td>\n",
       "      <td>13.036</td>\n",
       "      <td>5.819</td>\n",
       "      <td>5.289</td>\n",
       "      <td>5.349</td>\n",
       "      <td>NaN</td>\n",
       "      <td>...</td>\n",
       "      <td>NaN</td>\n",
       "      <td>15.657</td>\n",
       "      <td>1.626</td>\n",
       "      <td>1.269</td>\n",
       "      <td>3.164</td>\n",
       "      <td>14.96</td>\n",
       "      <td>2.8</td>\n",
       "      <td>NaN</td>\n",
       "      <td>NaN</td>\n",
       "      <td>NaN</td>\n",
       "    </tr>\n",
       "    <tr>\n",
       "      <th>2012-01-09</th>\n",
       "      <td>2.950</td>\n",
       "      <td>8.374</td>\n",
       "      <td>NaN</td>\n",
       "      <td>NaN</td>\n",
       "      <td>NaN</td>\n",
       "      <td>13.036</td>\n",
       "      <td>5.790</td>\n",
       "      <td>5.289</td>\n",
       "      <td>5.349</td>\n",
       "      <td>NaN</td>\n",
       "      <td>...</td>\n",
       "      <td>NaN</td>\n",
       "      <td>15.657</td>\n",
       "      <td>1.666</td>\n",
       "      <td>1.291</td>\n",
       "      <td>3.030</td>\n",
       "      <td>14.96</td>\n",
       "      <td>2.8</td>\n",
       "      <td>NaN</td>\n",
       "      <td>NaN</td>\n",
       "      <td>NaN</td>\n",
       "    </tr>\n",
       "  </tbody>\n",
       "</table>\n",
       "<p>5 rows × 750 columns</p>\n",
       "</div>"
      ],
      "text/plain": [
       "Ticker        AAA    AAM  AAT  AAV  ABS     ABT    ACB    ACC    ACL  ACM  \\\n",
       "DTYYYYMMDD                                                                  \n",
       "2012-01-03  2.950  8.336  NaN  NaN  NaN  13.371  5.760  5.259  5.411  NaN   \n",
       "2012-01-04  2.976  8.487  NaN  NaN  NaN  13.409  5.760  5.289  5.349  NaN   \n",
       "2012-01-05  2.950  8.374  NaN  NaN  NaN  13.669  5.939  5.053  5.349  NaN   \n",
       "2012-01-06  2.925  8.374  NaN  NaN  NaN  13.036  5.819  5.289  5.349  NaN   \n",
       "2012-01-09  2.950  8.374  NaN  NaN  NaN  13.036  5.790  5.289  5.349  NaN   \n",
       "\n",
       "Ticker      ...  VTJ     VTL    VTO    VTV    VXB    WCS  WSS  X20  YBM  YEG  \n",
       "DTYYYYMMDD  ...                                                               \n",
       "2012-01-03  ...  NaN  15.657  1.707  1.224  3.521  14.96  3.1  NaN  NaN  NaN  \n",
       "2012-01-04  ...  NaN  15.657  1.707  1.269  3.521  14.96  2.9  NaN  NaN  NaN  \n",
       "2012-01-05  ...  NaN  15.657  1.666  1.269  3.298  14.96  2.9  NaN  NaN  NaN  \n",
       "2012-01-06  ...  NaN  15.657  1.626  1.269  3.164  14.96  2.8  NaN  NaN  NaN  \n",
       "2012-01-09  ...  NaN  15.657  1.666  1.291  3.030  14.96  2.8  NaN  NaN  NaN  \n",
       "\n",
       "[5 rows x 750 columns]"
      ]
     },
     "execution_count": 5,
     "metadata": {},
     "output_type": "execute_result"
    }
   ],
   "source": [
    "#Pivot the table\n",
    "pivot = df_modified.pivot(index='DTYYYYMMDD', columns='Ticker', values = 'Close')\n",
    "pivot.head()"
   ]
  },
  {
   "cell_type": "code",
   "execution_count": 6,
   "id": "c33a3576",
   "metadata": {},
   "outputs": [
    {
     "data": {
      "text/plain": [
       "True"
      ]
     },
     "execution_count": 6,
     "metadata": {},
     "output_type": "execute_result"
    }
   ],
   "source": [
    " 0 in pivot.values"
   ]
  },
  {
   "cell_type": "code",
   "execution_count": 7,
   "id": "7080cac3",
   "metadata": {},
   "outputs": [],
   "source": [
    "import numpy as np\n",
    "pivot.replace(0, np.nan, inplace=True)"
   ]
  },
  {
   "cell_type": "code",
   "execution_count": 8,
   "id": "fb407281",
   "metadata": {},
   "outputs": [
    {
     "data": {
      "text/plain": [
       "False"
      ]
     },
     "execution_count": 8,
     "metadata": {},
     "output_type": "execute_result"
    }
   ],
   "source": [
    "0 in pivot.values"
   ]
  },
  {
   "cell_type": "code",
   "execution_count": 9,
   "id": "6134f665",
   "metadata": {
    "scrolled": false
   },
   "outputs": [
    {
     "data": {
      "text/html": [
       "<div>\n",
       "<style scoped>\n",
       "    .dataframe tbody tr th:only-of-type {\n",
       "        vertical-align: middle;\n",
       "    }\n",
       "\n",
       "    .dataframe tbody tr th {\n",
       "        vertical-align: top;\n",
       "    }\n",
       "\n",
       "    .dataframe thead th {\n",
       "        text-align: right;\n",
       "    }\n",
       "</style>\n",
       "<table border=\"1\" class=\"dataframe\">\n",
       "  <thead>\n",
       "    <tr style=\"text-align: right;\">\n",
       "      <th></th>\n",
       "      <th>Value</th>\n",
       "    </tr>\n",
       "    <tr>\n",
       "      <th>Ticker</th>\n",
       "      <th></th>\n",
       "    </tr>\n",
       "  </thead>\n",
       "  <tbody>\n",
       "    <tr>\n",
       "      <th>AAA</th>\n",
       "      <td>Nhựa</td>\n",
       "    </tr>\n",
       "    <tr>\n",
       "      <th>AAM</th>\n",
       "      <td>Thủy sản</td>\n",
       "    </tr>\n",
       "    <tr>\n",
       "      <th>AAT</th>\n",
       "      <td>Thương mại</td>\n",
       "    </tr>\n",
       "    <tr>\n",
       "      <th>AAV</th>\n",
       "      <td>Thương mại</td>\n",
       "    </tr>\n",
       "    <tr>\n",
       "      <th>ABS</th>\n",
       "      <td>Sản xuất - Kinh doanh</td>\n",
       "    </tr>\n",
       "  </tbody>\n",
       "</table>\n",
       "</div>"
      ],
      "text/plain": [
       "                        Value\n",
       "Ticker                       \n",
       "AAA                      Nhựa\n",
       "AAM                  Thủy sản\n",
       "AAT                Thương mại\n",
       "AAV                Thương mại\n",
       "ABS     Sản xuất - Kinh doanh"
      ]
     },
     "execution_count": 9,
     "metadata": {},
     "output_type": "execute_result"
    }
   ],
   "source": [
    "industry = pd.read_excel('./data/industry.xlsx', index_col=0)\n",
    "industry.head()"
   ]
  },
  {
   "cell_type": "code",
   "execution_count": 10,
   "id": "e6f59869",
   "metadata": {
    "scrolled": true
   },
   "outputs": [
    {
     "data": {
      "text/html": [
       "<h1>Filter Data</h1>\n"
      ],
      "text/plain": [
       "<IPython.core.display.HTML object>"
      ]
     },
     "metadata": {},
     "output_type": "display_data"
    }
   ],
   "source": [
    "%%HTML\n",
    "<h1>Filter Data</h1>"
   ]
  },
  {
   "cell_type": "code",
   "execution_count": 11,
   "id": "82a8576b",
   "metadata": {
    "scrolled": true
   },
   "outputs": [
    {
     "data": {
      "text/html": [
       "<h3>We will slice the dataframe to small intervals of 3 months</h3>\n"
      ],
      "text/plain": [
       "<IPython.core.display.HTML object>"
      ]
     },
     "metadata": {},
     "output_type": "display_data"
    }
   ],
   "source": [
    "%%HTML\n",
    "<h3>We will slice the dataframe to small intervals of 3 months</h3>"
   ]
  },
  {
   "cell_type": "code",
   "execution_count": 12,
   "id": "b653dc7c",
   "metadata": {
    "scrolled": false
   },
   "outputs": [],
   "source": [
    "data_list = []\n",
    "\n",
    "import datetime\n",
    "from datetime import timedelta\n",
    "\n",
    "start_date = datetime.date(2015, 1, 1)\n",
    "end_date = start_date\n",
    "\n",
    "while end_date.year != 2019:\n",
    "    end_date = start_date + datetime.timedelta(days=90)\n",
    "    quarter = pivot.loc[start_date:end_date]\n",
    "    data_list.append(quarter)\n",
    "    start_date = end_date"
   ]
  },
  {
   "cell_type": "code",
   "execution_count": 13,
   "id": "8b9ab288",
   "metadata": {
    "scrolled": true
   },
   "outputs": [
    {
     "data": {
      "text/html": [
       "<h1>Clean Data</h1>\n"
      ],
      "text/plain": [
       "<IPython.core.display.HTML object>"
      ]
     },
     "metadata": {},
     "output_type": "display_data"
    }
   ],
   "source": [
    "%%HTML\n",
    "<h1>Clean Data</h1>"
   ]
  },
  {
   "cell_type": "code",
   "execution_count": 14,
   "id": "d4918e89",
   "metadata": {},
   "outputs": [],
   "source": [
    "def find_cointegrated_pairs(data, significance=0.05):\n",
    "    # This function is from https://www.quantopian.com/lectures/introduction-to-pairs-trading\n",
    "    n = data.shape[1]\n",
    "    score_matrix = np.zeros((n, n))\n",
    "    pvalue_matrix = np.ones((n, n))\n",
    "    keys = data.keys()\n",
    "    pairs = []\n",
    "    for i in range(1):\n",
    "        for j in range(i+1, n):\n",
    "            S1 = data[keys[i]]            \n",
    "            S2 = data[keys[j]]\n",
    "            result = coint(S1, S2)\n",
    "            score = result[0]\n",
    "            pvalue = result[1]\n",
    "            score_matrix[i, j] = score\n",
    "            pvalue_matrix[i, j] = pvalue\n",
    "            if pvalue < significance:\n",
    "                pairs.append((keys[i], keys[j]))\n",
    "    return score_matrix, pvalue_matrix, pairs"
   ]
  },
  {
   "cell_type": "code",
   "execution_count": 15,
   "id": "89b1fb85",
   "metadata": {},
   "outputs": [],
   "source": [
    "def clean_data_func(data):\n",
    "    # We shall remove all the columns with more than 20% of missing data\n",
    "    missing_percentage = data.isnull().mean().sort_values(ascending=False)\n",
    "    dropped_list = sorted(list(missing_percentage[missing_percentage > 0.2].index))\n",
    "    data.drop(labels=dropped_list, axis=1, inplace=True)\n",
    "    \n",
    "    #Fill the remaining missing values with already available values\n",
    "    data = data.fillna(method='ffill')\n",
    "    data = data.fillna(method='bfill')\n",
    "    return data"
   ]
  },
  {
   "cell_type": "code",
   "execution_count": 16,
   "id": "f1ff6b97",
   "metadata": {},
   "outputs": [],
   "source": [
    "def returns_func(data):\n",
    "    #Calculate percentage returns and create a data frame\n",
    "    returns = data.pct_change()\n",
    "\n",
    "    returns.replace([np.inf, -np.inf], np.nan, inplace=True)\n",
    "    returns.dropna(inplace=True)\n",
    "    \n",
    "    return returns"
   ]
  },
  {
   "cell_type": "code",
   "execution_count": 17,
   "id": "64b8f9f2",
   "metadata": {},
   "outputs": [],
   "source": [
    "def mean_returns_func(data):\n",
    "    #Calculate mean returns and create a data frame\n",
    "    mean_returns = data.pct_change().mean()*62\n",
    "    mean_returns = pd.DataFrame(mean_returns)\n",
    "    mean_returns.columns = ['mean returns']\n",
    "\n",
    "    #Calculate the volatility\n",
    "    mean_returns['volatility'] = data.pct_change().std()*62\n",
    "    \n",
    "    return mean_returns"
   ]
  },
  {
   "cell_type": "code",
   "execution_count": 18,
   "id": "15eab5b6",
   "metadata": {},
   "outputs": [],
   "source": [
    "def industry_func(industry, mean_returns):\n",
    "    industry_filter = industry\n",
    "    for i in industry.index:\n",
    "        if i not in mean_returns.index:\n",
    "            industry_filter = industry_filter.drop(i)\n",
    "    \n",
    "    return industry_filter"
   ]
  },
  {
   "cell_type": "code",
   "execution_count": 19,
   "id": "ba27b298",
   "metadata": {},
   "outputs": [],
   "source": [
    "def pair_rating(pairs, pair_dict):\n",
    "    for pair in pairs:\n",
    "        if pair in pair_dict:\n",
    "            pair_dict[pair] = pair_dict[pair] + 1\n",
    "        else:\n",
    "            pair_dict[pair] = 1"
   ]
  },
  {
   "cell_type": "code",
   "execution_count": 20,
   "id": "a3752a52",
   "metadata": {
    "scrolled": false
   },
   "outputs": [],
   "source": [
    "import numpy as np\n",
    "from sklearn import preprocessing\n",
    "from sklearn.cluster import DBSCAN\n",
    "from statsmodels.tsa.stattools import coint\n",
    "\n",
    "pd.options.mode.chained_assignment = None\n",
    "\n",
    "pair_dict = {}\n",
    "\n",
    "for data in data_list:\n",
    "    data = clean_data_func(data)\n",
    "    pricing = data.copy()\n",
    "    returns = returns_func(data)\n",
    "    \n",
    "    returns = returns.reset_index()\n",
    "    returns = returns.drop(['DTYYYYMMDD'], axis=1)\n",
    "    \n",
    "    mean_returns = mean_returns_func(data)\n",
    "    \n",
    "    returns_trans = returns.transpose()\n",
    "    \n",
    "    industry_filter = industry_func(industry, mean_returns)\n",
    "    industry1 = pd.get_dummies(industry_filter, columns = ['Value'])\n",
    "        \n",
    "    X = np.hstack((returns_trans, mean_returns, industry1))\n",
    "    \n",
    "    X = preprocessing.StandardScaler().fit_transform(X)\n",
    "\n",
    "    clf = DBSCAN(eps=7.2, min_samples=3)\n",
    "    clf.fit(X)\n",
    "    clustered = clf.labels_\n",
    "#     labels = clf.labels_\n",
    "#     n_clusters_ = len(set(labels)) - (1 if -1 in labels else 0)\n",
    "#     print (\"\\nClusters discovered: %d\" % n_clusters_)\n",
    "    \n",
    "#     from sklearn import metrics\n",
    "#     print(\"dbscan\", metrics.silhouette_score(X, clf.labels_, metric='euclidean'))\n",
    "    \n",
    "    clustered_series = pd.Series(index=returns.columns, data=clustered.flatten())\n",
    "    clustered_series = clustered_series[clustered_series != -1]\n",
    "    \n",
    "    CLUSTER_SIZE_LIMIT = 9999\n",
    "    counts = clustered_series.value_counts()\n",
    "    ticker_count_reduced = counts[(counts>1) & (counts<=CLUSTER_SIZE_LIMIT)]\n",
    "\n",
    "    cluster_dict = {}\n",
    "    for i, which_clust in enumerate(ticker_count_reduced.index):\n",
    "        tickers = clustered_series[clustered_series == which_clust].index\n",
    "        score_matrix, pvalue_matrix, pairs = find_cointegrated_pairs(pricing[tickers])\n",
    "        cluster_dict[which_clust] = {}\n",
    "        cluster_dict[which_clust]['score_matrix'] = score_matrix\n",
    "        cluster_dict[which_clust]['pvalue_matrix'] = pvalue_matrix\n",
    "        cluster_dict[which_clust]['pairs'] = pairs\n",
    "    \n",
    "    pairs = []\n",
    "    for clust in cluster_dict.keys():\n",
    "        pairs.extend(cluster_dict[clust]['pairs'])\n",
    "    \n",
    "    pair_rating(pairs, pair_dict)\n",
    "\n",
    "# print(pair_dict)"
   ]
  },
  {
   "cell_type": "code",
   "execution_count": 21,
   "id": "6ed1fd32",
   "metadata": {
    "scrolled": false
   },
   "outputs": [
    {
     "name": "stdout",
     "output_type": "stream",
     "text": [
      "('ACB', 'CTG') 4\n",
      "('ACB', 'FCN') 3\n",
      "('ACB', 'HOM') 3\n",
      "('ACB', 'ICG') 3\n",
      "('ACB', 'KBC') 3\n",
      "('ACB', 'PVG') 3\n",
      "('ACB', 'SD6') 3\n",
      "('AAM', 'ABT') 3\n",
      "('AAM', 'ACL') 3\n",
      "('AAM', 'SAM') 4\n",
      "('AAM', 'TS4') 4\n",
      "('BRC', 'PHR') 5\n",
      "('CMC', 'TDC') 4\n",
      "('AAA', 'BMP') 3\n",
      "('ACB', 'HMH') 4\n",
      "('ACB', 'SHI') 3\n"
     ]
    }
   ],
   "source": [
    "for pair in pair_dict:\n",
    "    if pair_dict[pair] > 2:\n",
    "        print(pair, pair_dict[pair])"
   ]
  },
  {
   "cell_type": "code",
   "execution_count": 22,
   "id": "4483efa2",
   "metadata": {
    "scrolled": false
   },
   "outputs": [
    {
     "data": {
      "image/png": "[encoded data removed]",
      "text/plain": [
       "<Figure size 640x480 with 1 Axes>"
      ]
     },
     "metadata": {},
     "output_type": "display_data"
    }
   ],
   "source": [
    "import matplotlib.pyplot as plt\n",
    "\n",
    "plt.plot(pivot['AAM'], label='AAM', color='blue')\n",
    "plt.plot(pivot['SAM'], label='SAM', color='green')\n",
    "plt.legend(title='Ticker')\n",
    "\n",
    "#add axes labels and a title\n",
    "plt.ylabel('Price', fontsize=14)\n",
    "plt.xlabel('Time', fontsize=14)\n",
    "plt.title('Price Time Series of 2 Cointegrated Stocks', fontsize=16)\n",
    "\n",
    "#display plot\n",
    "plt.show()"
   ]
  },
  {
   "cell_type": "code",
   "execution_count": null,
   "id": "99aaadc8",
   "metadata": {},
   "outputs": [],
   "source": []
  }
 ],
 "metadata": {
  "kernelspec": {
   "display_name": "Python 3 (ipykernel)",
   "language": "python",
   "name": "python3"
  },
  "language_info": {
   "codemirror_mode": {
    "name": "ipython",
    "version": 3
   },
   "file_extension": ".py",
   "mimetype": "text/x-python",
   "name": "python",
   "nbconvert_exporter": "python",
   "pygments_lexer": "ipython3",
   "version": "3.9.13"
  }
 },
 "nbformat": 4,
 "nbformat_minor": 5
}
