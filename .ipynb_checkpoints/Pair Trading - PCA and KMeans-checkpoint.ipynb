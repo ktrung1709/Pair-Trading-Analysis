{
 "cells": [
  {
   "cell_type": "code",
   "execution_count": 1,
   "id": "aeca2063",
   "metadata": {
    "scrolled": true
   },
   "outputs": [
    {
     "data": {
      "text/html": [
       "<h1>Import Data</h1>\n"
      ],
      "text/plain": [
       "<IPython.core.display.HTML object>"
      ]
     },
     "metadata": {},
     "output_type": "display_data"
    }
   ],
   "source": [
    "%%HTML\n",
    "<h1>Import Data</h1>"
   ]
  },
  {
   "cell_type": "code",
   "execution_count": 2,
   "id": "af7ed849",
   "metadata": {
    "scrolled": true
   },
   "outputs": [
    {
     "data": {
      "text/html": [
       "<div>\n",
       "<style scoped>\n",
       "    .dataframe tbody tr th:only-of-type {\n",
       "        vertical-align: middle;\n",
       "    }\n",
       "\n",
       "    .dataframe tbody tr th {\n",
       "        vertical-align: top;\n",
       "    }\n",
       "\n",
       "    .dataframe thead th {\n",
       "        text-align: right;\n",
       "    }\n",
       "</style>\n",
       "<table border=\"1\" class=\"dataframe\">\n",
       "  <thead>\n",
       "    <tr style=\"text-align: right;\">\n",
       "      <th></th>\n",
       "      <th>&lt;Ticker&gt;</th>\n",
       "      <th>&lt;DTYYYYMMDD&gt;</th>\n",
       "      <th>&lt;Open&gt;</th>\n",
       "      <th>&lt;High&gt;</th>\n",
       "      <th>&lt;Low&gt;</th>\n",
       "      <th>&lt;Close&gt;</th>\n",
       "      <th>&lt;Volume&gt;</th>\n",
       "    </tr>\n",
       "  </thead>\n",
       "  <tbody>\n",
       "    <tr>\n",
       "      <th>0</th>\n",
       "      <td>AAV</td>\n",
       "      <td>20210730</td>\n",
       "      <td>12.4</td>\n",
       "      <td>12.4</td>\n",
       "      <td>12.1</td>\n",
       "      <td>12.4</td>\n",
       "      <td>166400</td>\n",
       "    </tr>\n",
       "    <tr>\n",
       "      <th>1</th>\n",
       "      <td>ABT</td>\n",
       "      <td>20210730</td>\n",
       "      <td>26.0</td>\n",
       "      <td>27.2</td>\n",
       "      <td>26.0</td>\n",
       "      <td>27.1</td>\n",
       "      <td>1207</td>\n",
       "    </tr>\n",
       "    <tr>\n",
       "      <th>2</th>\n",
       "      <td>ACM</td>\n",
       "      <td>20210730</td>\n",
       "      <td>2.3</td>\n",
       "      <td>2.4</td>\n",
       "      <td>2.3</td>\n",
       "      <td>2.4</td>\n",
       "      <td>592463</td>\n",
       "    </tr>\n",
       "    <tr>\n",
       "      <th>3</th>\n",
       "      <td>ADC</td>\n",
       "      <td>20210730</td>\n",
       "      <td>21.5</td>\n",
       "      <td>21.5</td>\n",
       "      <td>21.5</td>\n",
       "      <td>21.5</td>\n",
       "      <td>0</td>\n",
       "    </tr>\n",
       "    <tr>\n",
       "      <th>4</th>\n",
       "      <td>ALT</td>\n",
       "      <td>20210730</td>\n",
       "      <td>12.7</td>\n",
       "      <td>12.7</td>\n",
       "      <td>12.7</td>\n",
       "      <td>12.7</td>\n",
       "      <td>0</td>\n",
       "    </tr>\n",
       "  </tbody>\n",
       "</table>\n",
       "</div>"
      ],
      "text/plain": [
       "  <Ticker>  <DTYYYYMMDD>  <Open>  <High>  <Low>  <Close>  <Volume>\n",
       "0      AAV      20210730    12.4    12.4   12.1     12.4    166400\n",
       "1      ABT      20210730    26.0    27.2   26.0     27.1      1207\n",
       "2      ACM      20210730     2.3     2.4    2.3      2.4    592463\n",
       "3      ADC      20210730    21.5    21.5   21.5     21.5         0\n",
       "4      ALT      20210730    12.7    12.7   12.7     12.7         0"
      ]
     },
     "execution_count": 2,
     "metadata": {},
     "output_type": "execute_result"
    }
   ],
   "source": [
    "import pandas as pd\n",
    "df1 = pd.read_csv('./data/210730_HNX_ALL.txt', sep = ',')\n",
    "df2 = pd.read_csv('./data/210730_HOSE_ALL.txt', sep = ',')\n",
    "df3 = pd.read_csv('./data/210730_Index_ALL.txt', sep = ',')\n",
    "\n",
    "frames = [df1, df2, df3]\n",
    "df = pd.concat(frames, ignore_index = True)\n",
    "df.head()"
   ]
  },
  {
   "cell_type": "code",
   "execution_count": 3,
   "id": "f2d58dce",
   "metadata": {
    "scrolled": true
   },
   "outputs": [
    {
     "data": {
      "text/html": [
       "<h1>Extract Data</h1>\n"
      ],
      "text/plain": [
       "<IPython.core.display.HTML object>"
      ]
     },
     "metadata": {},
     "output_type": "display_data"
    }
   ],
   "source": [
    "%%HTML\n",
    "<h1>Extract Data</h1>"
   ]
  },
  {
   "cell_type": "code",
   "execution_count": 4,
   "id": "ea81223b",
   "metadata": {
    "scrolled": true
   },
   "outputs": [
    {
     "name": "stdout",
     "output_type": "stream",
     "text": [
      "          Ticker  DTYYYYMMDD   Open    High     Low   Close  Volume\n",
      "0            AAV    20210730   12.4   12.40   12.10   12.40  166400\n",
      "1            ABT    20210730   26.0   27.20   26.00   27.10    1207\n",
      "2            ACM    20210730    2.3    2.40    2.30    2.40  592463\n",
      "3            ADC    20210730   21.5   21.50   21.50   21.50       0\n",
      "4            ALT    20210730   12.7   12.70   12.70   12.70       0\n",
      "...          ...         ...    ...     ...     ...     ...     ...\n",
      "1452735  VNINDEX    20030609  152.0  152.49  152.35  152.35       0\n",
      "1452736  VNINDEX    20030602  151.0  151.66  151.44  151.66       0\n",
      "1452737  VNINDEX    20030530  152.0  152.47  152.24  152.24       0\n",
      "1452738  VNINDEX    20030529  153.0  152.74  152.32  152.32       0\n",
      "1452739  VNINDEX    20020314  189.0  188.97  188.97  188.97       0\n",
      "\n",
      "[1452740 rows x 7 columns]\n"
     ]
    }
   ],
   "source": [
    "#Remove redundant characters\n",
    "df.columns=df.columns.str.replace('[<,>]','', regex=True)\n",
    "print(df)"
   ]
  },
  {
   "cell_type": "code",
   "execution_count": 5,
   "id": "3248d7a8",
   "metadata": {
    "scrolled": true
   },
   "outputs": [
    {
     "name": "stdout",
     "output_type": "stream",
     "text": [
      "          Ticker  DTYYYYMMDD   Open    High     Low   Close  Volume\n",
      "0            AAV    20210730   12.4   12.40   12.10   12.40  166400\n",
      "1            ABT    20210730   26.0   27.20   26.00   27.10    1207\n",
      "2            ACM    20210730    2.3    2.40    2.30    2.40  592463\n",
      "3            ADC    20210730   21.5   21.50   21.50   21.50       0\n",
      "4            ALT    20210730   12.7   12.70   12.70   12.70       0\n",
      "...          ...         ...    ...     ...     ...     ...     ...\n",
      "1452735  VNINDEX    20030609  152.0  152.49  152.35  152.35       0\n",
      "1452736  VNINDEX    20030602  151.0  151.66  151.44  151.66       0\n",
      "1452737  VNINDEX    20030530  152.0  152.47  152.24  152.24       0\n",
      "1452738  VNINDEX    20030529  153.0  152.74  152.32  152.32       0\n",
      "1452739  VNINDEX    20020314  189.0  188.97  188.97  188.97       0\n",
      "\n",
      "[1452727 rows x 7 columns]\n"
     ]
    }
   ],
   "source": [
    "#Drop duplicate records\n",
    "df_modified = df.drop_duplicates(subset = ['Ticker', 'DTYYYYMMDD'], keep = 'first')\n",
    "print(df_modified)"
   ]
  },
  {
   "cell_type": "code",
   "execution_count": 6,
   "id": "7207c034",
   "metadata": {
    "scrolled": false
   },
   "outputs": [
    {
     "name": "stdout",
     "output_type": "stream",
     "text": [
      "Ticker        AAA   AAM   AAT   AAV    ABS   ABT    ACB    ACC    ACL  ACM  \\\n",
      "DTYYYYMMDD                                                                   \n",
      "20020314      NaN   NaN   NaN   NaN    NaN   NaN    NaN    NaN    NaN  NaN   \n",
      "20030529      NaN   NaN   NaN   NaN    NaN   NaN    NaN    NaN    NaN  NaN   \n",
      "20030530      NaN   NaN   NaN   NaN    NaN   NaN    NaN    NaN    NaN  NaN   \n",
      "20030602      NaN   NaN   NaN   NaN    NaN   NaN    NaN    NaN    NaN  NaN   \n",
      "20030609      NaN   NaN   NaN   NaN    NaN   NaN    NaN    NaN    NaN  NaN   \n",
      "...           ...   ...   ...   ...    ...   ...    ...    ...    ...  ...   \n",
      "20210726    15.45  10.8  17.5  12.4  18.55  27.6  32.70  14.00  11.40  2.3   \n",
      "20210727    16.00  10.5  17.7  12.4  18.90  27.6  33.15  13.70  11.60  2.3   \n",
      "20210728    16.30  10.1  17.6  12.4  19.35  27.0  33.15  13.70  11.60  2.3   \n",
      "20210729    16.15  10.8  17.6  12.4  19.95  27.0  34.15  13.70  11.50  2.3   \n",
      "20210730    16.15  10.9  17.6  12.4  20.40  27.1  36.15  13.75  11.55  2.4   \n",
      "\n",
      "Ticker      ...  VTJ   VTL   VTO  VTV  VXB    WCS  WSS   X20   YBM    YEG  \n",
      "DTYYYYMMDD  ...                                                            \n",
      "20020314    ...  NaN   NaN   NaN  NaN  NaN    NaN  NaN   NaN   NaN    NaN  \n",
      "20030529    ...  NaN   NaN   NaN  NaN  NaN    NaN  NaN   NaN   NaN    NaN  \n",
      "20030530    ...  NaN   NaN   NaN  NaN  NaN    NaN  NaN   NaN   NaN    NaN  \n",
      "20030602    ...  NaN   NaN   NaN  NaN  NaN    NaN  NaN   NaN   NaN    NaN  \n",
      "20030609    ...  NaN   NaN   NaN  NaN  NaN    NaN  NaN   NaN   NaN    NaN  \n",
      "...         ...  ...   ...   ...  ...  ...    ...  ...   ...   ...    ...  \n",
      "20210726    ...  4.3  12.1  8.61  6.1  9.7  177.0  7.0  10.7  6.75  16.20  \n",
      "20210727    ...  4.4  12.1  8.68  6.1  9.7  177.0  7.2  10.7  6.81  15.80  \n",
      "20210728    ...  4.3  12.1  8.75  6.1  9.7  178.0  7.1  10.7  6.84  15.05  \n",
      "20210729    ...  4.3  12.1  8.94  6.1  9.7  178.0  7.3  10.5  6.84  15.40  \n",
      "20210730    ...  4.2  12.1  9.24  6.1  9.7  178.0  7.2  10.5  6.60  15.40  \n",
      "\n",
      "[4433 rows x 755 columns]\n"
     ]
    }
   ],
   "source": [
    "#Pivot the table\n",
    "data = df_modified.pivot(index='DTYYYYMMDD', columns='Ticker', values = 'Close')\n",
    "print(data)"
   ]
  },
  {
   "cell_type": "code",
   "execution_count": 7,
   "id": "e6f59869",
   "metadata": {
    "scrolled": true
   },
   "outputs": [
    {
     "data": {
      "text/html": [
       "<h1>Filter Data</h1>\n"
      ],
      "text/plain": [
       "<IPython.core.display.HTML object>"
      ]
     },
     "metadata": {},
     "output_type": "display_data"
    }
   ],
   "source": [
    "%%HTML\n",
    "<h1>Filter Data</h1>"
   ]
  },
  {
   "cell_type": "code",
   "execution_count": 8,
   "id": "82a8576b",
   "metadata": {
    "scrolled": true
   },
   "outputs": [
    {
     "data": {
      "text/html": [
       "<h3>Here we only consider data between 02/01/2018 and 28/12/2018 (a total of 250 days)</h3>\n"
      ],
      "text/plain": [
       "<IPython.core.display.HTML object>"
      ]
     },
     "metadata": {},
     "output_type": "display_data"
    }
   ],
   "source": [
    "%%HTML\n",
    "<h3>Here we only consider data between 02/01/2018 and 28/12/2018 (a total of 250 days)</h3>"
   ]
  },
  {
   "cell_type": "code",
   "execution_count": 9,
   "id": "129b8ba0",
   "metadata": {},
   "outputs": [
    {
     "name": "stdout",
     "output_type": "stream",
     "text": [
      "Ticker         AAA    AAM  AAT    AAV  ABS     ABT     ACB     ACC     ACL  \\\n",
      "DTYYYYMMDD                                                                   \n",
      "20180102    21.245  6.506  NaN    NaN  NaN  23.750  14.502  11.121   3.425   \n",
      "20180103    21.310  6.286  NaN    NaN  NaN  23.673  14.465  11.287   3.304   \n",
      "20180104    21.213  6.286  NaN    NaN  NaN  24.133  14.502  11.342   3.405   \n",
      "20180105    21.083  6.569  NaN    NaN  NaN  23.980  14.502  11.342   3.385   \n",
      "20180108    21.698  6.537  NaN    NaN  NaN  23.520  14.988  11.287   3.162   \n",
      "...            ...    ...  ...    ...  ...     ...     ...     ...     ...   \n",
      "20181224    13.040  9.014  NaN  7.893  NaN  36.541  13.710  13.221  13.201   \n",
      "20181225    12.776  9.117  NaN  7.893  NaN  34.629  13.615  13.221  12.365   \n",
      "20181226    12.776  9.186  NaN  7.893  NaN  33.609  13.568  13.221  12.429   \n",
      "20181227    13.128  9.048  NaN  7.972  NaN  35.946  13.899  13.221  12.858   \n",
      "20181228    12.952  9.186  NaN  7.972  NaN  34.161  13.993  13.221  12.858   \n",
      "\n",
      "Ticker      ACM  ...    VTJ     VTL    VTO     VTV     VXB     WCS  WSS  \\\n",
      "DTYYYYMMDD       ...                                                      \n",
      "20180102    1.7  ...  8.410  23.975  5.609  11.470   9.354  96.223  4.0   \n",
      "20180103    1.6  ...  8.410  23.975  5.576  11.111   9.354  95.923  4.1   \n",
      "20180104    1.6  ...  8.410  23.975  5.687  11.326   9.354  98.028  4.1   \n",
      "20180105    1.5  ...  8.410  23.975  5.635  11.828   9.354  96.223  4.0   \n",
      "20180108    1.6  ...  7.948  23.975  5.602  11.470  10.290  96.283  4.0   \n",
      "...         ...  ...    ...     ...    ...     ...     ...     ...  ...   \n",
      "20181224    0.7  ...  4.000  29.400  5.501   8.698  12.000  80.076  2.9   \n",
      "20181225    0.7  ...  3.800  29.400  5.647   8.698  12.000  79.344  2.8   \n",
      "20181226    0.8  ...  3.800  29.400  5.392   8.531  12.000  79.344  2.9   \n",
      "20181227    0.7  ...  3.800  29.400  5.465   8.865  12.000  81.175  2.9   \n",
      "20181228    0.7  ...  4.100  29.400  5.501   8.781  12.000  81.175  3.0   \n",
      "\n",
      "Ticker        X20     YBM    YEG  \n",
      "DTYYYYMMDD                        \n",
      "20180102      NaN     NaN    NaN  \n",
      "20180103      NaN     NaN    NaN  \n",
      "20180104      NaN     NaN    NaN  \n",
      "20180105      NaN     NaN    NaN  \n",
      "20180108      NaN     NaN    NaN  \n",
      "...           ...     ...    ...  \n",
      "20181224    8.500  13.863  230.0  \n",
      "20181225    7.650  13.822  214.7  \n",
      "20181226    7.650  12.884  228.0  \n",
      "20181227    7.735  13.414  235.0  \n",
      "20181228    7.735  12.477  235.0  \n",
      "\n",
      "[250 rows x 755 columns]\n"
     ]
    }
   ],
   "source": [
    "data = data.loc[20180102:20181228]\n",
    "print(data)"
   ]
  },
  {
   "cell_type": "code",
   "execution_count": 10,
   "id": "8b9ab288",
   "metadata": {
    "scrolled": true
   },
   "outputs": [
    {
     "data": {
      "text/html": [
       "<h1>Clean Data</h1>\n"
      ],
      "text/plain": [
       "<IPython.core.display.HTML object>"
      ]
     },
     "metadata": {},
     "output_type": "display_data"
    }
   ],
   "source": [
    "%%HTML\n",
    "<h1>Clean Data</h1>"
   ]
  },
  {
   "cell_type": "code",
   "execution_count": 11,
   "id": "cfce3d74",
   "metadata": {},
   "outputs": [],
   "source": [
    "pd.set_option('display.precision', 3)"
   ]
  },
  {
   "cell_type": "code",
   "execution_count": 12,
   "id": "940c7158",
   "metadata": {},
   "outputs": [
    {
     "data": {
      "text/plain": [
       "True"
      ]
     },
     "execution_count": 12,
     "metadata": {},
     "output_type": "execute_result"
    }
   ],
   "source": [
    "#Check for missing values\n",
    "data.isnull().values.any()"
   ]
  },
  {
   "cell_type": "code",
   "execution_count": 13,
   "id": "bb1baf7e",
   "metadata": {
    "scrolled": false
   },
   "outputs": [
    {
     "data": {
      "text/plain": [
       "<AxesSubplot:>"
      ]
     },
     "execution_count": 13,
     "metadata": {},
     "output_type": "execute_result"
    },
    {
     "data": {
      "image/png": "[encoded data removed]",
      "text/plain": [
       "<Figure size 2500x1000 with 2 Axes>"
      ]
     },
     "metadata": {},
     "output_type": "display_data"
    }
   ],
   "source": [
    "#Plot the missing value matrix\n",
    "import missingno\n",
    "missingno.matrix(data)"
   ]
  },
  {
   "cell_type": "code",
   "execution_count": 14,
   "id": "29a684e4",
   "metadata": {},
   "outputs": [
    {
     "data": {
      "text/html": [
       "<h3>We shall remove all the columns with more than 20% of missing data</h3>\n"
      ],
      "text/plain": [
       "<IPython.core.display.HTML object>"
      ]
     },
     "metadata": {},
     "output_type": "display_data"
    }
   ],
   "source": [
    "%%HTML\n",
    "<h3>We shall remove all the columns with more than 20% of missing data</h3>"
   ]
  },
  {
   "cell_type": "code",
   "execution_count": 15,
   "id": "0075413d",
   "metadata": {},
   "outputs": [
    {
     "name": "stdout",
     "output_type": "stream",
     "text": [
      "Data Shape before cleaning = (250, 755)\n",
      "Data Shape after cleaning = (250, 662)\n"
     ]
    }
   ],
   "source": [
    "print('Data Shape before cleaning =', data.shape)\n",
    "\n",
    "missing_percentage = data.isnull().mean().sort_values(ascending=False)\n",
    "dropped_list = sorted(list(missing_percentage[missing_percentage > 0.2].index))\n",
    "data.drop(labels=dropped_list, axis=1, inplace=True)\n",
    "\n",
    "print('Data Shape after cleaning =', data.shape)"
   ]
  },
  {
   "cell_type": "code",
   "execution_count": 16,
   "id": "ba2c37e6",
   "metadata": {
    "scrolled": false
   },
   "outputs": [
    {
     "name": "stdout",
     "output_type": "stream",
     "text": [
      "Ticker         AAA    AAM     ABT     ACB     ACC     ACL  ACM     ADC  \\\n",
      "DTYYYYMMDD                                                               \n",
      "20180102    21.245  6.506  23.750  14.502  11.121   3.425  1.7   8.951   \n",
      "20180103    21.310  6.286  23.673  14.465  11.287   3.304  1.6   9.007   \n",
      "20180104    21.213  6.286  24.133  14.502  11.342   3.405  1.6   9.007   \n",
      "20180105    21.083  6.569  23.980  14.502  11.342   3.385  1.5   9.007   \n",
      "20180108    21.698  6.537  23.520  14.988  11.287   3.162  1.6   9.007   \n",
      "...            ...    ...     ...     ...     ...     ...  ...     ...   \n",
      "20181224    13.040  9.014  36.541  13.710  13.221  13.201  0.7  11.034   \n",
      "20181225    12.776  9.117  34.629  13.615  13.221  12.365  0.7  11.034   \n",
      "20181226    12.776  9.186  33.609  13.568  13.221  12.429  0.8  11.034   \n",
      "20181227    13.128  9.048  35.946  13.899  13.221  12.858  0.7  11.034   \n",
      "20181228    12.952  9.186  34.161  13.993  13.221  12.858  0.7  11.034   \n",
      "\n",
      "Ticker         ADS    AGM  ...     VTB     VTH    VTJ     VTL    VTO     VTV  \\\n",
      "DTYYYYMMDD                 ...                                                 \n",
      "20180102    11.700  7.035  ...  14.149  14.899  8.410  23.975  5.609  11.470   \n",
      "20180103    11.734  7.035  ...  13.876  14.995  8.410  23.975  5.576  11.111   \n",
      "20180104    11.734  6.720  ...  13.798  14.995  8.410  23.975  5.687  11.326   \n",
      "20180105    11.768  7.035  ...  13.252  14.995  8.410  23.975  5.635  11.828   \n",
      "20180108    11.835  6.873  ...  13.720  14.995  7.948  23.975  5.602  11.470   \n",
      "...            ...    ...  ...     ...     ...    ...     ...    ...     ...   \n",
      "20181224     9.962  9.748  ...  14.551  10.000  4.000  29.400  5.501   8.698   \n",
      "20181225     9.962  9.577  ...  14.511  10.000  3.800  29.400  5.647   8.698   \n",
      "20181226     9.886  9.321  ...  14.551  10.000  3.800  29.400  5.392   8.531   \n",
      "20181227    10.339  9.321  ...  14.389  10.000  3.800  29.400  5.465   8.865   \n",
      "20181228    10.868  9.321  ...  14.714  10.000  4.100  29.400  5.501   8.781   \n",
      "\n",
      "Ticker         VXB     WCS  WSS     X20  \n",
      "DTYYYYMMDD                               \n",
      "20180102     9.354  96.223  4.0  15.188  \n",
      "20180103     9.354  95.923  4.1  15.188  \n",
      "20180104     9.354  98.028  4.1  15.188  \n",
      "20180105     9.354  96.223  4.0  15.188  \n",
      "20180108    10.290  96.283  4.0  15.188  \n",
      "...            ...     ...  ...     ...  \n",
      "20181224    12.000  80.076  2.9   8.500  \n",
      "20181225    12.000  79.344  2.8   7.650  \n",
      "20181226    12.000  79.344  2.9   7.650  \n",
      "20181227    12.000  81.175  2.9   7.735  \n",
      "20181228    12.000  81.175  3.0   7.735  \n",
      "\n",
      "[250 rows x 662 columns]\n"
     ]
    }
   ],
   "source": [
    "#Fill the remaining missing values with already available values\n",
    "data = data.fillna(method='ffill')\n",
    "data = data.fillna(method='bfill')\n",
    "print(data)"
   ]
  },
  {
   "cell_type": "code",
   "execution_count": 17,
   "id": "506ffa1f",
   "metadata": {
    "scrolled": false
   },
   "outputs": [
    {
     "name": "stdout",
     "output_type": "stream",
     "text": [
      "Ticker        AAA    AAM    ABT    ACB    ACC    ACL    ACM    ADC    ADS  \\\n",
      "DTYYYYMMDD                                                                  \n",
      "20180103    0.003 -0.034 -0.003 -0.003  0.015 -0.035 -0.059  0.006  0.003   \n",
      "20180104   -0.005  0.000  0.019  0.003  0.005  0.031  0.000  0.000  0.000   \n",
      "20180105   -0.006  0.045 -0.006  0.000  0.000 -0.006 -0.062  0.000  0.003   \n",
      "20180108    0.029 -0.005 -0.019  0.034 -0.005 -0.066  0.067  0.000  0.006   \n",
      "20180109    0.012 -0.005  0.008  0.005 -0.010 -0.023  0.000  0.000  0.008   \n",
      "...           ...    ...    ...    ...    ...    ...    ...    ...    ...   \n",
      "20181224   -0.023  0.004  0.000 -0.014  0.000 -0.052  0.000  0.097 -0.015   \n",
      "20181225   -0.020  0.011 -0.052 -0.007  0.000 -0.063  0.000  0.000  0.000   \n",
      "20181226    0.000  0.008 -0.029 -0.003  0.000  0.005  0.143  0.000 -0.008   \n",
      "20181227    0.028 -0.015  0.070  0.024  0.000  0.035 -0.125  0.000  0.046   \n",
      "20181228   -0.013  0.015 -0.050  0.007  0.000  0.000  0.000  0.000  0.051   \n",
      "\n",
      "Ticker        AGM  ...    VTB    VTH    VTJ  VTL    VTO    VTV  VXB  \\\n",
      "DTYYYYMMDD         ...                                                \n",
      "20180103    0.000  ... -0.019  0.006  0.000  0.0 -0.006 -0.031  0.0   \n",
      "20180104   -0.045  ... -0.006  0.000  0.000  0.0  0.020  0.019  0.0   \n",
      "20180105    0.047  ... -0.040  0.000  0.000  0.0 -0.009  0.044  0.0   \n",
      "20180108   -0.023  ...  0.035  0.000 -0.055  0.0 -0.006 -0.030  0.1   \n",
      "20180109    0.000  ...  0.023 -0.071  0.000  0.0  0.006  0.019  0.1   \n",
      "...           ...  ...    ...    ...    ...  ...    ...    ...  ...   \n",
      "20181224    0.036  ...  0.047  0.000 -0.048  0.0  0.004  0.000  0.0   \n",
      "20181225   -0.018  ... -0.003  0.000 -0.050  0.0  0.027  0.000  0.0   \n",
      "20181226   -0.027  ...  0.003  0.000  0.000  0.0 -0.045 -0.019  0.0   \n",
      "20181227    0.000  ... -0.011  0.000  0.000  0.0  0.014  0.039  0.0   \n",
      "20181228    0.000  ...  0.023  0.000  0.079  0.0  0.007 -0.009  0.0   \n",
      "\n",
      "Ticker            WCS    WSS    X20  \n",
      "DTYYYYMMDD                           \n",
      "20180103   -3.118e-03  0.025  0.000  \n",
      "20180104    2.194e-02  0.000  0.000  \n",
      "20180105   -1.841e-02 -0.024  0.000  \n",
      "20180108    6.236e-04  0.000  0.000  \n",
      "20180109    6.335e-04  0.025  0.000  \n",
      "...               ...    ...    ...  \n",
      "20181224    0.000e+00  0.000  0.000  \n",
      "20181225   -9.141e-03 -0.034 -0.100  \n",
      "20181226    0.000e+00  0.036  0.000  \n",
      "20181227    2.308e-02  0.000  0.011  \n",
      "20181228    0.000e+00  0.034  0.000  \n",
      "\n",
      "[244 rows x 662 columns]\n"
     ]
    }
   ],
   "source": [
    "import numpy as np\n",
    "\n",
    "#Calculate returns and create a data frame\n",
    "returns = data.pct_change()\n",
    "\n",
    "returns.replace([np.inf, -np.inf], np.nan, inplace=True)\n",
    "returns.dropna(inplace=True)\n",
    "\n",
    "print(returns)\n",
    "data1 = returns\n"
   ]
  },
  {
   "cell_type": "code",
   "execution_count": 18,
   "id": "12e4f81f",
   "metadata": {},
   "outputs": [
    {
     "data": {
      "text/html": [
       "<div>\n",
       "<style scoped>\n",
       "    .dataframe tbody tr th:only-of-type {\n",
       "        vertical-align: middle;\n",
       "    }\n",
       "\n",
       "    .dataframe tbody tr th {\n",
       "        vertical-align: top;\n",
       "    }\n",
       "\n",
       "    .dataframe thead th {\n",
       "        text-align: right;\n",
       "    }\n",
       "</style>\n",
       "<table border=\"1\" class=\"dataframe\">\n",
       "  <thead>\n",
       "    <tr style=\"text-align: right;\">\n",
       "      <th>Ticker</th>\n",
       "      <th>AAA</th>\n",
       "      <th>AAM</th>\n",
       "      <th>ABT</th>\n",
       "      <th>ACB</th>\n",
       "      <th>ACC</th>\n",
       "      <th>ACL</th>\n",
       "      <th>ACM</th>\n",
       "      <th>ADC</th>\n",
       "      <th>ADS</th>\n",
       "      <th>AGM</th>\n",
       "      <th>...</th>\n",
       "      <th>VTB</th>\n",
       "      <th>VTH</th>\n",
       "      <th>VTJ</th>\n",
       "      <th>VTL</th>\n",
       "      <th>VTO</th>\n",
       "      <th>VTV</th>\n",
       "      <th>VXB</th>\n",
       "      <th>WCS</th>\n",
       "      <th>WSS</th>\n",
       "      <th>X20</th>\n",
       "    </tr>\n",
       "  </thead>\n",
       "  <tbody>\n",
       "    <tr>\n",
       "      <th>0</th>\n",
       "      <td>0.003</td>\n",
       "      <td>-0.034</td>\n",
       "      <td>-0.003</td>\n",
       "      <td>-0.003</td>\n",
       "      <td>0.015</td>\n",
       "      <td>-0.035</td>\n",
       "      <td>-0.059</td>\n",
       "      <td>0.006</td>\n",
       "      <td>0.003</td>\n",
       "      <td>0.000</td>\n",
       "      <td>...</td>\n",
       "      <td>-0.019</td>\n",
       "      <td>0.006</td>\n",
       "      <td>0.000</td>\n",
       "      <td>0.0</td>\n",
       "      <td>-0.006</td>\n",
       "      <td>-0.031</td>\n",
       "      <td>0.0</td>\n",
       "      <td>-3.118e-03</td>\n",
       "      <td>0.025</td>\n",
       "      <td>0.0</td>\n",
       "    </tr>\n",
       "    <tr>\n",
       "      <th>1</th>\n",
       "      <td>-0.005</td>\n",
       "      <td>0.000</td>\n",
       "      <td>0.019</td>\n",
       "      <td>0.003</td>\n",
       "      <td>0.005</td>\n",
       "      <td>0.031</td>\n",
       "      <td>0.000</td>\n",
       "      <td>0.000</td>\n",
       "      <td>0.000</td>\n",
       "      <td>-0.045</td>\n",
       "      <td>...</td>\n",
       "      <td>-0.006</td>\n",
       "      <td>0.000</td>\n",
       "      <td>0.000</td>\n",
       "      <td>0.0</td>\n",
       "      <td>0.020</td>\n",
       "      <td>0.019</td>\n",
       "      <td>0.0</td>\n",
       "      <td>2.194e-02</td>\n",
       "      <td>0.000</td>\n",
       "      <td>0.0</td>\n",
       "    </tr>\n",
       "    <tr>\n",
       "      <th>2</th>\n",
       "      <td>-0.006</td>\n",
       "      <td>0.045</td>\n",
       "      <td>-0.006</td>\n",
       "      <td>0.000</td>\n",
       "      <td>0.000</td>\n",
       "      <td>-0.006</td>\n",
       "      <td>-0.062</td>\n",
       "      <td>0.000</td>\n",
       "      <td>0.003</td>\n",
       "      <td>0.047</td>\n",
       "      <td>...</td>\n",
       "      <td>-0.040</td>\n",
       "      <td>0.000</td>\n",
       "      <td>0.000</td>\n",
       "      <td>0.0</td>\n",
       "      <td>-0.009</td>\n",
       "      <td>0.044</td>\n",
       "      <td>0.0</td>\n",
       "      <td>-1.841e-02</td>\n",
       "      <td>-0.024</td>\n",
       "      <td>0.0</td>\n",
       "    </tr>\n",
       "    <tr>\n",
       "      <th>3</th>\n",
       "      <td>0.029</td>\n",
       "      <td>-0.005</td>\n",
       "      <td>-0.019</td>\n",
       "      <td>0.034</td>\n",
       "      <td>-0.005</td>\n",
       "      <td>-0.066</td>\n",
       "      <td>0.067</td>\n",
       "      <td>0.000</td>\n",
       "      <td>0.006</td>\n",
       "      <td>-0.023</td>\n",
       "      <td>...</td>\n",
       "      <td>0.035</td>\n",
       "      <td>0.000</td>\n",
       "      <td>-0.055</td>\n",
       "      <td>0.0</td>\n",
       "      <td>-0.006</td>\n",
       "      <td>-0.030</td>\n",
       "      <td>0.1</td>\n",
       "      <td>6.236e-04</td>\n",
       "      <td>0.000</td>\n",
       "      <td>0.0</td>\n",
       "    </tr>\n",
       "    <tr>\n",
       "      <th>4</th>\n",
       "      <td>0.012</td>\n",
       "      <td>-0.005</td>\n",
       "      <td>0.008</td>\n",
       "      <td>0.005</td>\n",
       "      <td>-0.010</td>\n",
       "      <td>-0.023</td>\n",
       "      <td>0.000</td>\n",
       "      <td>0.000</td>\n",
       "      <td>0.008</td>\n",
       "      <td>0.000</td>\n",
       "      <td>...</td>\n",
       "      <td>0.023</td>\n",
       "      <td>-0.071</td>\n",
       "      <td>0.000</td>\n",
       "      <td>0.0</td>\n",
       "      <td>0.006</td>\n",
       "      <td>0.019</td>\n",
       "      <td>0.1</td>\n",
       "      <td>6.335e-04</td>\n",
       "      <td>0.025</td>\n",
       "      <td>0.0</td>\n",
       "    </tr>\n",
       "  </tbody>\n",
       "</table>\n",
       "<p>5 rows × 662 columns</p>\n",
       "</div>"
      ],
      "text/plain": [
       "Ticker    AAA    AAM    ABT    ACB    ACC    ACL    ACM    ADC    ADS    AGM  \\\n",
       "0       0.003 -0.034 -0.003 -0.003  0.015 -0.035 -0.059  0.006  0.003  0.000   \n",
       "1      -0.005  0.000  0.019  0.003  0.005  0.031  0.000  0.000  0.000 -0.045   \n",
       "2      -0.006  0.045 -0.006  0.000  0.000 -0.006 -0.062  0.000  0.003  0.047   \n",
       "3       0.029 -0.005 -0.019  0.034 -0.005 -0.066  0.067  0.000  0.006 -0.023   \n",
       "4       0.012 -0.005  0.008  0.005 -0.010 -0.023  0.000  0.000  0.008  0.000   \n",
       "\n",
       "Ticker  ...    VTB    VTH    VTJ  VTL    VTO    VTV  VXB        WCS    WSS  \\\n",
       "0       ... -0.019  0.006  0.000  0.0 -0.006 -0.031  0.0 -3.118e-03  0.025   \n",
       "1       ... -0.006  0.000  0.000  0.0  0.020  0.019  0.0  2.194e-02  0.000   \n",
       "2       ... -0.040  0.000  0.000  0.0 -0.009  0.044  0.0 -1.841e-02 -0.024   \n",
       "3       ...  0.035  0.000 -0.055  0.0 -0.006 -0.030  0.1  6.236e-04  0.000   \n",
       "4       ...  0.023 -0.071  0.000  0.0  0.006  0.019  0.1  6.335e-04  0.025   \n",
       "\n",
       "Ticker  X20  \n",
       "0       0.0  \n",
       "1       0.0  \n",
       "2       0.0  \n",
       "3       0.0  \n",
       "4       0.0  \n",
       "\n",
       "[5 rows x 662 columns]"
      ]
     },
     "execution_count": 18,
     "metadata": {},
     "output_type": "execute_result"
    }
   ],
   "source": [
    "returns = returns.reset_index()\n",
    "returns = returns.drop(['DTYYYYMMDD'], axis=1)\n",
    "returns.head()"
   ]
  },
  {
   "cell_type": "code",
   "execution_count": 19,
   "id": "fd3a11f9",
   "metadata": {},
   "outputs": [],
   "source": [
    "#returns = returns.transpose()\n",
    "#returns.head()"
   ]
  },
  {
   "cell_type": "code",
   "execution_count": 20,
   "id": "16032e1f",
   "metadata": {},
   "outputs": [
    {
     "data": {
      "text/plain": [
       "PCA(n_components=10)"
      ]
     },
     "execution_count": 20,
     "metadata": {},
     "output_type": "execute_result"
    }
   ],
   "source": [
    "# Importing PCA\n",
    "from sklearn.decomposition import PCA\n",
    "  \n",
    "# Let's say, components = 25\n",
    "N_PRIN_COMPONENTS = 10\n",
    "pca = PCA(n_components=N_PRIN_COMPONENTS)\n",
    "pca.fit(returns)"
   ]
  },
  {
   "cell_type": "code",
   "execution_count": 21,
   "id": "912fafbd",
   "metadata": {},
   "outputs": [
    {
     "data": {
      "text/plain": [
       "(662, 10)"
      ]
     },
     "execution_count": 21,
     "metadata": {},
     "output_type": "execute_result"
    }
   ],
   "source": [
    "pca.components_.T.shape"
   ]
  },
  {
   "cell_type": "code",
   "execution_count": 22,
   "id": "6944f3eb",
   "metadata": {},
   "outputs": [
    {
     "name": "stdout",
     "output_type": "stream",
     "text": [
      "(662, 10)\n"
     ]
    }
   ],
   "source": [
    "from sklearn import preprocessing\n",
    "\n",
    "X = preprocessing.StandardScaler().fit_transform(pca.components_.T)\n",
    "print(X.shape)"
   ]
  },
  {
   "cell_type": "code",
   "execution_count": 23,
   "id": "f9551ddf",
   "metadata": {
    "scrolled": false
   },
   "outputs": [
    {
     "data": {
      "text/plain": [
       "Text(0.5, 1.0, 'Sorting Maximum Distance in k Nearest Neighbor of kNN')"
      ]
     },
     "execution_count": 23,
     "metadata": {},
     "output_type": "execute_result"
    },
    {
     "data": {
      "image/png": "[encoded data removed]",
      "text/plain": [
       "<Figure size 1200x800 with 1 Axes>"
      ]
     },
     "metadata": {},
     "output_type": "display_data"
    }
   ],
   "source": [
    "from sklearn.neighbors import NearestNeighbors\n",
    "import matplotlib.pyplot as plt\n",
    "# Xây dựng mô hình k-Means với k=25\n",
    "neighbors = 10\n",
    "nbrs = NearestNeighbors(n_neighbors=neighbors ).fit(X)\n",
    "\n",
    "# Ma trận khoảng cách distances: (N, k)\n",
    "distances, indices = nbrs.kneighbors(X)\n",
    "\n",
    "# Lấy ra khoảng cách xa nhất từ phạm vi láng giềng của mỗi điểm và sắp xếp theo thứ tự giảm dần.\n",
    "distance_desc = sorted(distances[:, neighbors-1], reverse=True)\n",
    "\n",
    "# Vẽ biểu đồ khoảng cách xa nhất ở trên theo thứ tự giảm dần\n",
    "plt.figure(figsize=(12, 8))\n",
    "plt.plot(list(range(1,len(distance_desc )+1)), distance_desc)\n",
    "plt.axhline(y=0.9)\n",
    "plt.text(2, 0.8, 'y= 18', fontsize=12)\n",
    "plt.axhline(y=0.8)\n",
    "plt.text(2, 1,'y = 19', fontsize=12)\n",
    "plt.ylabel('distance')\n",
    "plt.xlabel('indice')\n",
    "plt.title('Sorting Maximum Distance in k Nearest Neighbor of kNN')"
   ]
  },
  {
   "cell_type": "code",
   "execution_count": 24,
   "id": "195fa600",
   "metadata": {
    "scrolled": true
   },
   "outputs": [
    {
     "name": "stdout",
     "output_type": "stream",
     "text": [
      "DBSCAN(eps=2.0, min_samples=10)\n",
      "\n",
      "Clusters discovered: 1\n"
     ]
    }
   ],
   "source": [
    "from sklearn.cluster import KMeans, DBSCAN\n",
    "clf = DBSCAN(eps=2.0, min_samples=10)\n",
    "print(clf)\n",
    "\n",
    "clf.fit(X)\n",
    "labels = clf.labels_\n",
    "n_clusters_ = len(set(labels)) - (1 if -1 in labels else 0)\n",
    "print (\"\\nClusters discovered: %d\" % n_clusters_)\n",
    "\n",
    "clustered = clf.labels_"
   ]
  },
  {
   "cell_type": "code",
   "execution_count": 25,
   "id": "aa5d0bb8",
   "metadata": {
    "scrolled": false
   },
   "outputs": [
    {
     "name": "stdout",
     "output_type": "stream",
     "text": [
      "dbscan 0.33923685209034365\n"
     ]
    }
   ],
   "source": [
    "from sklearn import metrics\n",
    "print(\"dbscan\", metrics.silhouette_score(X, clf.labels_, metric='euclidean'))"
   ]
  },
  {
   "cell_type": "code",
   "execution_count": 26,
   "id": "1dce2e2a",
   "metadata": {},
   "outputs": [
    {
     "name": "stdout",
     "output_type": "stream",
     "text": [
      "Total pairs possible in universe: 218791 \n"
     ]
    }
   ],
   "source": [
    "# the initial dimensionality of the search was\n",
    "ticker_count = len(returns.columns)\n",
    "print(\"Total pairs possible in universe: %d \" % (ticker_count*(ticker_count-1)/2))"
   ]
  },
  {
   "cell_type": "code",
   "execution_count": 27,
   "id": "9d5cd5a8",
   "metadata": {
    "scrolled": false
   },
   "outputs": [],
   "source": [
    "clustered_series = pd.Series(index=returns.columns, data=clustered.flatten())\n",
    "clustered_series_all = pd.Series(index=returns.columns, data=clustered.flatten())\n",
    "clustered_series = clustered_series[clustered_series != -1]"
   ]
  },
  {
   "cell_type": "code",
   "execution_count": 28,
   "id": "7746eebe",
   "metadata": {},
   "outputs": [],
   "source": [
    "from sklearn.manifold import TSNE\n",
    "X_tsne = TSNE(init = \"random\", learning_rate=1000, perplexity=25, random_state=1337).fit_transform(X)"
   ]
  },
  {
   "cell_type": "code",
   "execution_count": 29,
   "id": "99f8728f",
   "metadata": {},
   "outputs": [
    {
     "data": {
      "image/png": "[encoded data removed]",
      "text/plain": [
       "<Figure size 640x480 with 1 Axes>"
      ]
     },
     "metadata": {},
     "output_type": "display_data"
    }
   ],
   "source": [
    "import matplotlib.cm as cm\n",
    "plt.figure(1, facecolor='white')\n",
    "plt.clf()\n",
    "plt.axis('off')\n",
    "plt.scatter(\n",
    "    X_tsne[(labels!=-1), 0],\n",
    "    X_tsne[(labels!=-1), 1],\n",
    "    s=100,\n",
    "    alpha=0.85,\n",
    "    c=labels[labels!=-1],\n",
    "    cmap=cm.Paired\n",
    ")\n",
    "\n",
    "plt.scatter(\n",
    "    X_tsne[(clustered_series_all==-1).values, 0],\n",
    "    X_tsne[(clustered_series_all==-1).values, 1],\n",
    "    s=100,\n",
    "    alpha=0.05\n",
    ")\n",
    "\n",
    "plt.title('T-SNE of all Stocks with DBSCAN Clusters Noted');"
   ]
  },
  {
   "cell_type": "code",
   "execution_count": 30,
   "id": "96c49182",
   "metadata": {},
   "outputs": [
    {
     "data": {
      "text/plain": [
       "Text(0, 0.5, 'Cluster Number')"
      ]
     },
     "execution_count": 30,
     "metadata": {},
     "output_type": "execute_result"
    },
    {
     "data": {
      "image/png": "[encoded data removed]",
      "text/plain": [
       "<Figure size 640x480 with 1 Axes>"
      ]
     },
     "metadata": {},
     "output_type": "display_data"
    }
   ],
   "source": [
    "plt.barh(range(len(clustered_series.value_counts())), clustered_series.value_counts())\n",
    "plt.title('Cluster Member Counts')\n",
    "plt.xlabel('Stocks in Cluster')\n",
    "plt.ylabel('Cluster Number')"
   ]
  },
  {
   "cell_type": "code",
   "execution_count": 31,
   "id": "0cc189dd",
   "metadata": {
    "scrolled": false
   },
   "outputs": [],
   "source": [
    "# get the number of stocks in each cluster\n",
    "counts = clustered_series.value_counts()\n",
    "\n",
    "# let's visualize some clusters\n",
    "cluster_vis_list = list(counts[(counts<20) & (counts>1)].index)[::-1]\n",
    "\n",
    "# plot a handful of the smallest clusters\n",
    "for clust in cluster_vis_list[0:min(len(cluster_vis_list), 3)]:\n",
    "    tickers = list(clustered_series[clustered_series==clust].index)\n",
    "    means = np.log(data[tickers].mean())\n",
    "    datas = np.log(data[tickers]).sub(means)\n",
    "    datas.plot(title='Stock Time Series for Cluster %d' % clust)"
   ]
  },
  {
   "cell_type": "code",
   "execution_count": 32,
   "id": "d73cfa82",
   "metadata": {},
   "outputs": [
    {
     "data": {
      "text/html": [
       "<h1>Pair Selection</h1>\n"
      ],
      "text/plain": [
       "<IPython.core.display.HTML object>"
      ]
     },
     "metadata": {},
     "output_type": "display_data"
    }
   ],
   "source": [
    "%%HTML\n",
    "<h1>Pair Selection</h1>"
   ]
  },
  {
   "cell_type": "code",
   "execution_count": 33,
   "id": "67769363",
   "metadata": {},
   "outputs": [
    {
     "name": "stdout",
     "output_type": "stream",
     "text": [
      "Clusters formed: 1\n",
      "Pairs to evaluate: 276150\n"
     ]
    }
   ],
   "source": [
    "CLUSTER_SIZE_LIMIT = 9999\n",
    "counts = clustered_series.value_counts()\n",
    "ticker_count_reduced = counts[(counts>1) & (counts<=CLUSTER_SIZE_LIMIT)]\n",
    "print (\"Clusters formed: %d\" % len(ticker_count_reduced))\n",
    "print (\"Pairs to evaluate: %d\" % (ticker_count_reduced*(ticker_count_reduced-1)).sum())"
   ]
  },
  {
   "cell_type": "code",
   "execution_count": 34,
   "id": "80295f8f",
   "metadata": {},
   "outputs": [
    {
     "data": {
      "text/html": [
       "<h3>Cointegration and pair selection function</h3>\n"
      ],
      "text/plain": [
       "<IPython.core.display.HTML object>"
      ]
     },
     "metadata": {},
     "output_type": "display_data"
    }
   ],
   "source": [
    "%%HTML\n",
    "<h3>Cointegration and pair selection function</h3>"
   ]
  },
  {
   "cell_type": "code",
   "execution_count": 35,
   "id": "70788095",
   "metadata": {},
   "outputs": [],
   "source": [
    "def find_cointegrated_pairs(data, significance=0.05):\n",
    "    # This function is from https://www.quantopian.com/lectures/introduction-to-pairs-trading\n",
    "    n = data.shape[1]\n",
    "    score_matrix = np.zeros((n, n))\n",
    "    pvalue_matrix = np.ones((n, n))\n",
    "    keys = data.keys()\n",
    "    pairs = []\n",
    "    for i in range(1):\n",
    "        for j in range(i+1, n):\n",
    "            S1 = data[keys[i]]            \n",
    "            S2 = data[keys[j]]\n",
    "            result = coint(S1, S2)\n",
    "            score = result[0]\n",
    "            pvalue = result[1]\n",
    "            score_matrix[i, j] = score\n",
    "            pvalue_matrix[i, j] = pvalue\n",
    "            if pvalue < significance:\n",
    "                pairs.append((keys[i], keys[j]))\n",
    "    return score_matrix, pvalue_matrix, pairs"
   ]
  },
  {
   "cell_type": "code",
   "execution_count": 36,
   "id": "8005c43d",
   "metadata": {},
   "outputs": [
    {
     "ename": "AttributeError",
     "evalue": "'int' object has no attribute 'index'",
     "output_type": "error",
     "traceback": [
      "\u001b[1;31m---------------------------------------------------------------------------\u001b[0m",
      "\u001b[1;31mAttributeError\u001b[0m                            Traceback (most recent call last)",
      "\u001b[1;32m~\\AppData\\Local\\Temp\\ipykernel_18064\\4287836165.py\u001b[0m in \u001b[0;36m<module>\u001b[1;34m\u001b[0m\n\u001b[0;32m      3\u001b[0m \u001b[0mcluster_dict\u001b[0m \u001b[1;33m=\u001b[0m \u001b[1;33m{\u001b[0m\u001b[1;33m}\u001b[0m\u001b[1;33m\u001b[0m\u001b[1;33m\u001b[0m\u001b[0m\n\u001b[0;32m      4\u001b[0m \u001b[1;33m\u001b[0m\u001b[0m\n\u001b[1;32m----> 5\u001b[1;33m \u001b[1;32mfor\u001b[0m \u001b[0mi\u001b[0m\u001b[1;33m,\u001b[0m \u001b[0mclust\u001b[0m \u001b[1;32min\u001b[0m \u001b[0menumerate\u001b[0m\u001b[1;33m(\u001b[0m\u001b[0mticker_count\u001b[0m\u001b[1;33m.\u001b[0m\u001b[0mindex\u001b[0m\u001b[1;33m)\u001b[0m\u001b[1;33m:\u001b[0m\u001b[1;33m\u001b[0m\u001b[1;33m\u001b[0m\u001b[0m\n\u001b[0m\u001b[0;32m      6\u001b[0m     \u001b[0mtickers\u001b[0m \u001b[1;33m=\u001b[0m \u001b[0mclustered_series\u001b[0m\u001b[1;33m[\u001b[0m\u001b[0mclustered_series\u001b[0m \u001b[1;33m==\u001b[0m \u001b[0mclust\u001b[0m\u001b[1;33m]\u001b[0m\u001b[1;33m.\u001b[0m\u001b[0mindex\u001b[0m\u001b[1;33m\u001b[0m\u001b[1;33m\u001b[0m\u001b[0m\n\u001b[0;32m      7\u001b[0m     \u001b[0mscore_matrix\u001b[0m\u001b[1;33m,\u001b[0m \u001b[0mpvalue_matrix\u001b[0m\u001b[1;33m,\u001b[0m \u001b[0mpairs\u001b[0m \u001b[1;33m=\u001b[0m \u001b[0mfind_cointegrated_pairs\u001b[0m\u001b[1;33m(\u001b[0m\u001b[0mdata1\u001b[0m\u001b[1;33m[\u001b[0m\u001b[0mtickers\u001b[0m\u001b[1;33m]\u001b[0m\u001b[1;33m)\u001b[0m\u001b[1;33m\u001b[0m\u001b[1;33m\u001b[0m\u001b[0m\n",
      "\u001b[1;31mAttributeError\u001b[0m: 'int' object has no attribute 'index'"
     ]
    }
   ],
   "source": [
    "from statsmodels.tsa.stattools import coint\n",
    "\n",
    "cluster_dict = {}\n",
    "\n",
    "for i, clust in enumerate(ticker_count.index):\n",
    "    tickers = clustered_series[clustered_series == clust].index\n",
    "    score_matrix, pvalue_matrix, pairs = find_cointegrated_pairs(data1[tickers])\n",
    "    cluster_dict[clust] = {}\n",
    "    cluster_dict[clust]['score_matrix'] = score_matrix\n",
    "    cluster_dict[clust]['pvalue_matrix'] = pvalue_matrix\n",
    "    cluster_dict[clust]['pairs'] = pairs\n",
    "    \n",
    "pairs = []   \n",
    "for cluster in cluster_dict.keys():\n",
    "    pairs.extend(cluster_dict[cluster]['pairs'])\n",
    "    \n",
    "print (\"Number of pairs:\", len(pairs))\n",
    "print (\"In those pairs, we found %d unique tickers.\" % len(np.unique(pairs)))\n",
    "print(pairs)"
   ]
  },
  {
   "cell_type": "code",
   "execution_count": null,
   "id": "51f9e442",
   "metadata": {},
   "outputs": [],
   "source": [
    "%%HTML\n",
    "<h1>TSNE Visualization</h1>"
   ]
  },
  {
   "cell_type": "code",
   "execution_count": null,
   "id": "9ab9bf4c",
   "metadata": {},
   "outputs": [],
   "source": [
    "from sklearn.manifold import TSNE\n",
    "import matplotlib.cm as cm\n",
    "\n",
    "stocks = np.unique(pairs)\n",
    "X_data = pd.DataFrame(index=returns.index, data=returns).T\n",
    "in_pairs_series = clustered_series.loc[stocks]\n",
    "stocks = list(np.unique(pairs))\n",
    "X_pairs = X_data.T.loc[stocks]\n",
    "X_pairs.head()"
   ]
  },
  {
   "cell_type": "code",
   "execution_count": null,
   "id": "f8b953f3",
   "metadata": {},
   "outputs": [],
   "source": [
    "X_tsne = TSNE(init = \"random\", learning_rate=30, perplexity=5, random_state=42, n_jobs=-1).fit_transform(X_pairs)\n",
    "X_tsne"
   ]
  },
  {
   "cell_type": "code",
   "execution_count": null,
   "id": "95d6921d",
   "metadata": {},
   "outputs": [],
   "source": [
    "plt.figure(1, facecolor='white',figsize=(15,10))\n",
    "plt.clf()\n",
    "plt.axis('off')\n",
    "for pair in pairs:\n",
    "    ticker1 = pair[0]\n",
    "    loc1 = X_pairs.index.get_loc(pair[0])\n",
    "    x1, y1 = X_tsne[loc1, :]\n",
    "    ticker2 = pair[0]\n",
    "    loc2 = X_pairs.index.get_loc(pair[1])\n",
    "    x2, y2 = X_tsne[loc2, :]\n",
    "    plt.plot([x1, x2], [y1, y2], 'k-', alpha=0.3);\n",
    "    \n",
    "plt.scatter(X_tsne[:, 0], X_tsne[:, 1], s=215, alpha=0.8, c=in_pairs_series.values, cmap=cm.Paired)\n",
    "plt.title('TSNE Visualization of Pairs'); \n",
    "\n",
    "# Join pairs by x and y\n",
    "for x,y,name in zip(X_tsne[:,0],X_tsne[:,1],X_pairs.index):\n",
    "\n",
    "    label = name\n",
    "\n",
    "    plt.annotate(label,\n",
    "                 (x,y),\n",
    "                 textcoords=\"offset points\",\n",
    "                 xytext=(0,10),\n",
    "                 ha='center')\n",
    "    \n",
    "plt.show()"
   ]
  },
  {
   "cell_type": "code",
   "execution_count": null,
   "id": "dc9e5fb3",
   "metadata": {},
   "outputs": [],
   "source": []
  }
 ],
 "metadata": {
  "kernelspec": {
   "display_name": "Python 3 (ipykernel)",
   "language": "python",
   "name": "python3"
  },
  "language_info": {
   "codemirror_mode": {
    "name": "ipython",
    "version": 3
   },
   "file_extension": ".py",
   "mimetype": "text/x-python",
   "name": "python",
   "nbconvert_exporter": "python",
   "pygments_lexer": "ipython3",
   "version": "3.9.13"
  }
 },
 "nbformat": 4,
 "nbformat_minor": 5
}
