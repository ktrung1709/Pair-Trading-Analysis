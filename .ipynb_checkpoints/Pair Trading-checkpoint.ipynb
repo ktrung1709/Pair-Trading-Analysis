{
 "cells": [
  {
   "cell_type": "code",
   "execution_count": 1,
   "id": "aeca2063",
   "metadata": {
    "scrolled": true
   },
   "outputs": [
    {
     "data": {
      "text/html": [
       "<h1>Import Data</h1>\n"
      ],
      "text/plain": [
       "<IPython.core.display.HTML object>"
      ]
     },
     "metadata": {},
     "output_type": "display_data"
    }
   ],
   "source": [
    "%%HTML\n",
    "<h1>Import Data</h1>"
   ]
  },
  {
   "cell_type": "code",
   "execution_count": 2,
   "id": "af7ed849",
   "metadata": {
    "scrolled": true
   },
   "outputs": [
    {
     "name": "stdout",
     "output_type": "stream",
     "text": [
      "        <Ticker>  <DTYYYYMMDD>  <Open>  <High>   <Low>  <Close>  <Volume>\n",
      "0            AAV      20210730  12.400  12.400  12.100   12.400    166400\n",
      "1            ABT      20210730  26.000  27.200  26.000   27.100      1207\n",
      "2            ACM      20210730   2.300   2.400   2.300    2.400    592463\n",
      "3            ADC      20210730  21.500  21.500  21.500   21.500         0\n",
      "4            ALT      20210730  12.700  12.700  12.700   12.700         0\n",
      "...          ...           ...     ...     ...     ...      ...       ...\n",
      "2501310      MTP      20140320   7.100   7.100   7.100    7.100         0\n",
      "2501311      ND2      20140320   3.656   3.656   3.656    3.656       164\n",
      "2501312      NDC      20140320   0.022   0.022   0.022    0.022   1963692\n",
      "2501313      NGC      20140320   5.619   5.619   5.619    5.619      2229\n",
      "2501314      NNT      20140320   0.000   0.000   0.000    0.000         0\n",
      "\n",
      "[2501315 rows x 7 columns]\n"
     ]
    }
   ],
   "source": [
    "import pandas as pd\n",
    "df1 = pd.read_csv('./data/210730_HNX_ALL.txt', sep = ',')\n",
    "df2 = pd.read_csv('./data/210730_HOSE_ALL.txt', sep = ',')\n",
    "df3 = pd.read_csv('./data/210730_Index_ALL.txt', sep = ',')\n",
    "df4 = pd.read_csv('./data/210730_UPCOM_ALL.txt', sep = ',')\n",
    "\n",
    "frames = [df1, df2, df3, df4]\n",
    "df = pd.concat(frames, ignore_index = True)\n",
    "print(df)"
   ]
  },
  {
   "cell_type": "code",
   "execution_count": 3,
   "id": "f2d58dce",
   "metadata": {
    "scrolled": true
   },
   "outputs": [
    {
     "data": {
      "text/html": [
       "<h2>Extracting Data</h2>\n"
      ],
      "text/plain": [
       "<IPython.core.display.HTML object>"
      ]
     },
     "metadata": {},
     "output_type": "display_data"
    }
   ],
   "source": [
    "%%HTML\n",
    "<h2>Extracting Data</h2>"
   ]
  },
  {
   "cell_type": "code",
   "execution_count": 4,
   "id": "ea81223b",
   "metadata": {
    "scrolled": true
   },
   "outputs": [
    {
     "name": "stdout",
     "output_type": "stream",
     "text": [
      "        Ticker  DTYYYYMMDD    Open    High     Low   Close   Volume\n",
      "0          AAV    20210730  12.400  12.400  12.100  12.400   166400\n",
      "1          ABT    20210730  26.000  27.200  26.000  27.100     1207\n",
      "2          ACM    20210730   2.300   2.400   2.300   2.400   592463\n",
      "3          ADC    20210730  21.500  21.500  21.500  21.500        0\n",
      "4          ALT    20210730  12.700  12.700  12.700  12.700        0\n",
      "...        ...         ...     ...     ...     ...     ...      ...\n",
      "2501310    MTP    20140320   7.100   7.100   7.100   7.100        0\n",
      "2501311    ND2    20140320   3.656   3.656   3.656   3.656      164\n",
      "2501312    NDC    20140320   0.022   0.022   0.022   0.022  1963692\n",
      "2501313    NGC    20140320   5.619   5.619   5.619   5.619     2229\n",
      "2501314    NNT    20140320   0.000   0.000   0.000   0.000        0\n",
      "\n",
      "[2501315 rows x 7 columns]\n"
     ]
    }
   ],
   "source": [
    "df.columns=df.columns.str.replace('[<,>]','', regex=True)\n",
    "print(df)"
   ]
  },
  {
   "cell_type": "code",
   "execution_count": 5,
   "id": "3248d7a8",
   "metadata": {
    "scrolled": true
   },
   "outputs": [
    {
     "name": "stdout",
     "output_type": "stream",
     "text": [
      "        Ticker  DTYYYYMMDD    Open    High     Low   Close   Volume\n",
      "0          AAV    20210730  12.400  12.400  12.100  12.400   166400\n",
      "1          ABT    20210730  26.000  27.200  26.000  27.100     1207\n",
      "2          ACM    20210730   2.300   2.400   2.300   2.400   592463\n",
      "3          ADC    20210730  21.500  21.500  21.500  21.500        0\n",
      "4          ALT    20210730  12.700  12.700  12.700  12.700        0\n",
      "...        ...         ...     ...     ...     ...     ...      ...\n",
      "2501310    MTP    20140320   7.100   7.100   7.100   7.100        0\n",
      "2501311    ND2    20140320   3.656   3.656   3.656   3.656      164\n",
      "2501312    NDC    20140320   0.022   0.022   0.022   0.022  1963692\n",
      "2501313    NGC    20140320   5.619   5.619   5.619   5.619     2229\n",
      "2501314    NNT    20140320   0.000   0.000   0.000   0.000        0\n",
      "\n",
      "[2501302 rows x 7 columns]\n"
     ]
    }
   ],
   "source": [
    "df_modified = df.drop_duplicates(subset = ['Ticker', 'DTYYYYMMDD'], keep = 'first')\n",
    "print(df_modified)"
   ]
  },
  {
   "cell_type": "code",
   "execution_count": 6,
   "id": "7207c034",
   "metadata": {
    "scrolled": true
   },
   "outputs": [
    {
     "name": "stdout",
     "output_type": "stream",
     "text": [
      "Ticker       A32    AAA   AAM   AAS   AAT   AAV   ABB   ABC   ABI   ABR  ...  \\\n",
      "DTYYYYMMDD                                                               ...   \n",
      "20020314     NaN    NaN   NaN   NaN   NaN   NaN   NaN   NaN   NaN   NaN  ...   \n",
      "20030529     NaN    NaN   NaN   NaN   NaN   NaN   NaN   NaN   NaN   NaN  ...   \n",
      "20030530     NaN    NaN   NaN   NaN   NaN   NaN   NaN   NaN   NaN   NaN  ...   \n",
      "20030602     NaN    NaN   NaN   NaN   NaN   NaN   NaN   NaN   NaN   NaN  ...   \n",
      "20030609     NaN    NaN   NaN   NaN   NaN   NaN   NaN   NaN   NaN   NaN  ...   \n",
      "...          ...    ...   ...   ...   ...   ...   ...   ...   ...   ...  ...   \n",
      "20210726    30.5  15.45  10.8  11.8  17.5  12.4  18.9  11.6  52.5  22.5  ...   \n",
      "20210727    30.5  16.00  10.5  12.0  17.7  12.4  19.3  11.7  55.3  22.7  ...   \n",
      "20210728    30.5  16.30  10.1  12.2  17.6  12.4  19.0  11.8  55.0  22.7  ...   \n",
      "20210729    30.5  16.15  10.8  12.5  17.6  12.4  20.2  11.8  55.7  22.7  ...   \n",
      "20210730    30.9  16.15  10.9  13.0  17.6  12.4  20.7  11.6  54.3  22.9  ...   \n",
      "\n",
      "Ticker       XHC  XLV   XMC  XMD  XPH   YBC   YBM    YEG  YRC   YTC  \n",
      "DTYYYYMMDD                                                           \n",
      "20020314     NaN  NaN   NaN  NaN  NaN   NaN   NaN    NaN  NaN   NaN  \n",
      "20030529     NaN  NaN   NaN  NaN  NaN   NaN   NaN    NaN  NaN   NaN  \n",
      "20030530     NaN  NaN   NaN  NaN  NaN   NaN   NaN    NaN  NaN   NaN  \n",
      "20030602     NaN  NaN   NaN  NaN  NaN   NaN   NaN    NaN  NaN   NaN  \n",
      "20030609     NaN  NaN   NaN  NaN  NaN   NaN   NaN    NaN  NaN   NaN  \n",
      "...          ...  ...   ...  ...  ...   ...   ...    ...  ...   ...  \n",
      "20210726    24.0  9.6  10.6  1.9  9.2  11.6  6.75  16.20  6.3  78.1  \n",
      "20210727    24.0  9.6  10.6  1.9  9.3   9.9  6.81  15.80  6.3  78.1  \n",
      "20210728    24.0  9.6  10.8  1.9  9.3  10.1  6.84  15.05  6.3  78.1  \n",
      "20210729    24.0  9.6  10.5  1.9  9.4  10.1  6.84  15.40  6.3  78.1  \n",
      "20210730    24.0  9.6  10.5  1.9  9.1   8.7  6.60  15.40  6.3  78.1  \n",
      "\n",
      "[4433 rows x 1665 columns]\n"
     ]
    }
   ],
   "source": [
    "data = df_modified.pivot(index='DTYYYYMMDD', columns='Ticker', values = 'Close')\n",
    "print(data)"
   ]
  },
  {
   "cell_type": "code",
   "execution_count": 7,
   "id": "e6f59869",
   "metadata": {},
   "outputs": [
    {
     "data": {
      "text/html": [
       "<h3>Filtering Data</h3>\n"
      ],
      "text/plain": [
       "<IPython.core.display.HTML object>"
      ]
     },
     "metadata": {},
     "output_type": "display_data"
    }
   ],
   "source": [
    "%%HTML\n",
    "<h3>Filtering Data</h3>"
   ]
  },
  {
   "cell_type": "code",
   "execution_count": 8,
   "id": "129b8ba0",
   "metadata": {},
   "outputs": [
    {
     "name": "stdout",
     "output_type": "stream",
     "text": [
      "Ticker        A32     AAA    AAM  AAS  AAT    AAV  ABB     ABC     ABI  ABR  \\\n",
      "DTYYYYMMDD                                                                    \n",
      "20180102      NaN  21.245  6.506  NaN  NaN    NaN  NaN  12.196  22.623  NaN   \n",
      "20180103      NaN  21.310  6.286  NaN  NaN    NaN  NaN  12.031  23.378  NaN   \n",
      "20180104      NaN  21.213  6.286  NaN  NaN    NaN  NaN  12.031  22.875  NaN   \n",
      "20180105      NaN  21.083  6.569  NaN  NaN    NaN  NaN  11.949  23.042  NaN   \n",
      "20180108      NaN  21.698  6.537  NaN  NaN    NaN  NaN  12.031  23.042  NaN   \n",
      "...           ...     ...    ...  ...  ...    ...  ...     ...     ...  ...   \n",
      "20181224    26.22  13.040  9.014  NaN  NaN  7.893  NaN   7.581  21.442  3.1   \n",
      "20181225    26.22  12.776  9.117  NaN  NaN  7.893  NaN   7.581  21.969  3.3   \n",
      "20181226    26.22  12.776  9.186  NaN  NaN  7.893  NaN   7.581  21.969  3.5   \n",
      "20181227    26.22  13.128  9.048  NaN  NaN  7.972  NaN   7.746  21.969  3.6   \n",
      "20181228    26.22  12.952  9.186  NaN  NaN  7.972  NaN   7.663  21.969  4.1   \n",
      "\n",
      "Ticker      ...     XHC    XLV  XMC  XMD  XPH   YBC     YBM    YEG    YRC  \\\n",
      "DTYYYYMMDD  ...                                                             \n",
      "20180102    ...  14.096    NaN  NaN  1.9  6.8  19.5     NaN    NaN  6.299   \n",
      "20180103    ...  14.096    NaN  NaN  1.9  6.8  19.5     NaN    NaN  6.299   \n",
      "20180104    ...  15.583    NaN  NaN  1.9  6.8  19.5     NaN    NaN  6.299   \n",
      "20180105    ...  14.988    NaN  NaN  1.9  6.8  19.5     NaN    NaN  6.299   \n",
      "20180108    ...  14.988    NaN  NaN  1.9  7.2  19.5     NaN    NaN  6.299   \n",
      "...         ...     ...    ...  ...  ...  ...   ...     ...    ...    ...   \n",
      "20181224    ...  11.187  9.047  NaN  1.9  4.8  21.3  13.863  230.0  6.299   \n",
      "20181225    ...  11.187  9.047  NaN  1.9  5.4  21.3  13.822  214.7  6.299   \n",
      "20181226    ...  11.187  9.047  NaN  1.9  5.0  21.3  12.884  228.0  6.299   \n",
      "20181227    ...  11.187  9.047  NaN  1.9  5.3  21.3  13.414  235.0  6.299   \n",
      "20181228    ...  11.187  9.047  NaN  1.9  5.1  21.3  12.477  235.0  6.299   \n",
      "\n",
      "Ticker         YTC  \n",
      "DTYYYYMMDD          \n",
      "20180102    30.236  \n",
      "20180103    34.094  \n",
      "20180104    34.094  \n",
      "20180105    34.094  \n",
      "20180108    34.094  \n",
      "...            ...  \n",
      "20181224    82.441  \n",
      "20181225    82.441  \n",
      "20181226    89.074  \n",
      "20181227    81.398  \n",
      "20181228    91.917  \n",
      "\n",
      "[250 rows x 1665 columns]\n"
     ]
    }
   ],
   "source": [
    "data = data.loc[20180102:20181228]\n",
    "print(data)\n"
   ]
  },
  {
   "cell_type": "code",
   "execution_count": 9,
   "id": "940c7158",
   "metadata": {},
   "outputs": [
    {
     "data": {
      "text/plain": [
       "True"
      ]
     },
     "execution_count": 9,
     "metadata": {},
     "output_type": "execute_result"
    }
   ],
   "source": [
    "data.isnull().values.any()"
   ]
  },
  {
   "cell_type": "code",
   "execution_count": 10,
   "id": "0075413d",
   "metadata": {},
   "outputs": [
    {
     "name": "stdout",
     "output_type": "stream",
     "text": [
      "Data Shape before cleaning = (250, 1665)\n",
      "Data Shape after cleaning = (250, 1351)\n"
     ]
    }
   ],
   "source": [
    "print('Data Shape before cleaning =', data.shape)\n",
    "\n",
    "missing_percentage = data.isnull().mean().sort_values(ascending=False)\n",
    "dropped_list = sorted(list(missing_percentage[missing_percentage > 0.2].index))\n",
    "data.drop(labels=dropped_list, axis=1, inplace=True)\n",
    "\n",
    "print('Data Shape after cleaning =', data.shape)"
   ]
  },
  {
   "cell_type": "code",
   "execution_count": 11,
   "id": "ba2c37e6",
   "metadata": {},
   "outputs": [],
   "source": [
    "data = data.fillna(method='ffill')"
   ]
  },
  {
   "cell_type": "code",
   "execution_count": 12,
   "id": "4738628e",
   "metadata": {},
   "outputs": [
    {
     "data": {
      "text/plain": [
       "True"
      ]
     },
     "execution_count": 12,
     "metadata": {},
     "output_type": "execute_result"
    }
   ],
   "source": [
    "data.isnull().values.any() #Ở đây filler rồi vẫn bị missing data chưa fix được"
   ]
  },
  {
   "cell_type": "code",
   "execution_count": 13,
   "id": "27d56428",
   "metadata": {},
   "outputs": [
    {
     "data": {
      "text/html": [
       "<div>\n",
       "<style scoped>\n",
       "    .dataframe tbody tr th:only-of-type {\n",
       "        vertical-align: middle;\n",
       "    }\n",
       "\n",
       "    .dataframe tbody tr th {\n",
       "        vertical-align: top;\n",
       "    }\n",
       "\n",
       "    .dataframe thead th {\n",
       "        text-align: right;\n",
       "    }\n",
       "</style>\n",
       "<table border=\"1\" class=\"dataframe\">\n",
       "  <thead>\n",
       "    <tr style=\"text-align: right;\">\n",
       "      <th></th>\n",
       "      <th>returns</th>\n",
       "      <th>volatility</th>\n",
       "    </tr>\n",
       "    <tr>\n",
       "      <th>Ticker</th>\n",
       "      <th></th>\n",
       "      <th></th>\n",
       "    </tr>\n",
       "  </thead>\n",
       "  <tbody>\n",
       "    <tr>\n",
       "      <th>AAA</th>\n",
       "      <td>-0.417090</td>\n",
       "      <td>0.399833</td>\n",
       "    </tr>\n",
       "    <tr>\n",
       "      <th>AAM</th>\n",
       "      <td>0.425459</td>\n",
       "      <td>0.398103</td>\n",
       "    </tr>\n",
       "    <tr>\n",
       "      <th>ABC</th>\n",
       "      <td>-0.259862</td>\n",
       "      <td>0.644626</td>\n",
       "    </tr>\n",
       "    <tr>\n",
       "      <th>ABI</th>\n",
       "      <td>0.199386</td>\n",
       "      <td>0.680992</td>\n",
       "    </tr>\n",
       "    <tr>\n",
       "      <th>ABT</th>\n",
       "      <td>0.479690</td>\n",
       "      <td>0.479610</td>\n",
       "    </tr>\n",
       "  </tbody>\n",
       "</table>\n",
       "</div>"
      ],
      "text/plain": [
       "         returns  volatility\n",
       "Ticker                      \n",
       "AAA    -0.417090    0.399833\n",
       "AAM     0.425459    0.398103\n",
       "ABC    -0.259862    0.644626\n",
       "ABI     0.199386    0.680992\n",
       "ABT     0.479690    0.479610"
      ]
     },
     "execution_count": 13,
     "metadata": {},
     "output_type": "execute_result"
    }
   ],
   "source": [
    "import numpy as np\n",
    "\n",
    "#Calculate returns and create a data frame\n",
    "returns = data.pct_change().mean()*250\n",
    "returns = pd.DataFrame(returns)\n",
    "returns.columns = ['returns']\n",
    "\n",
    "#Calculate the volatility\n",
    "returns['volatility'] = data.pct_change().std()*np.sqrt(250)\n",
    "\n",
    "data = returns\n",
    "data.head()"
   ]
  },
  {
   "cell_type": "code",
   "execution_count": 14,
   "id": "a9103c84",
   "metadata": {},
   "outputs": [
    {
     "data": {
      "text/plain": [
       "True"
      ]
     },
     "execution_count": 14,
     "metadata": {},
     "output_type": "execute_result"
    }
   ],
   "source": [
    "data.isnull().values.any() #Lỗi ở trên xuống đây tính bảng returns cũng bị trống ô"
   ]
  },
  {
   "cell_type": "code",
   "execution_count": null,
   "id": "c106fd45",
   "metadata": {},
   "outputs": [],
   "source": []
  }
 ],
 "metadata": {
  "kernelspec": {
   "display_name": "Python 3 (ipykernel)",
   "language": "python",
   "name": "python3"
  },
  "language_info": {
   "codemirror_mode": {
    "name": "ipython",
    "version": 3
   },
   "file_extension": ".py",
   "mimetype": "text/x-python",
   "name": "python",
   "nbconvert_exporter": "python",
   "pygments_lexer": "ipython3",
   "version": "3.9.13"
  }
 },
 "nbformat": 4,
 "nbformat_minor": 5
}
